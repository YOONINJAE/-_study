{
  "nbformat": 4,
  "nbformat_minor": 0,
  "metadata": {
    "colab": {
      "name": "data_science_1.ipynb",
      "provenance": [],
      "collapsed_sections": [],
      "authorship_tag": "ABX9TyNUP7G1faHuIh9LMuoJd5v0",
      "include_colab_link": true
    },
    "kernelspec": {
      "name": "python3",
      "display_name": "Python 3"
    },
    "language_info": {
      "name": "python"
    }
  },
  "cells": [
    {
      "cell_type": "markdown",
      "metadata": {
        "id": "view-in-github",
        "colab_type": "text"
      },
      "source": [
        "<a href=\"https://colab.research.google.com/github/YOONINJAE/winter_edu/blob/master/data_science_1.ipynb\" target=\"_parent\"><img src=\"https://colab.research.google.com/assets/colab-badge.svg\" alt=\"Open In Colab\"/></a>"
      ]
    },
    {
      "cell_type": "code",
      "metadata": {
        "colab": {
          "base_uri": "https://localhost:8080/"
        },
        "id": "QcR0c1Xai7vd",
        "outputId": "409d573e-b604-4214-ff6e-c66a5b44d22d"
      },
      "source": [
        "# numpy class\n",
        "print(\"Hello data science\")"
      ],
      "execution_count": 1,
      "outputs": [
        {
          "output_type": "stream",
          "text": [
            "Hello data science\n"
          ],
          "name": "stdout"
        }
      ]
    },
    {
      "cell_type": "code",
      "metadata": {
        "id": "VsbGqiSrkeGz"
      },
      "source": [
        "#  DAta science day 1\n",
        "## Numpy class"
      ],
      "execution_count": 5,
      "outputs": []
    },
    {
      "cell_type": "code",
      "metadata": {
        "colab": {
          "base_uri": "https://localhost:8080/",
          "height": 35
        },
        "id": "Gb1SKzy1khZu",
        "outputId": "d832af4a-66e3-4ce2-8628-fc135892c88e"
      },
      "source": [
        "import numpy as np\n",
        "np.__version__"
      ],
      "execution_count": 7,
      "outputs": [
        {
          "output_type": "execute_result",
          "data": {
            "application/vnd.google.colaboratory.intrinsic+json": {
              "type": "string"
            },
            "text/plain": [
              "'1.19.5'"
            ]
          },
          "metadata": {},
          "execution_count": 7
        }
      ]
    },
    {
      "cell_type": "code",
      "metadata": {
        "colab": {
          "base_uri": "https://localhost:8080/"
        },
        "id": "xEt4-YKLmgtq",
        "outputId": "eb5eac34-323e-460f-a34f-84d2471f1eea"
      },
      "source": [
        "a=np.array([0,1,2,3,4],dtype = np.int16)\n",
        "type(a)"
      ],
      "execution_count": 23,
      "outputs": [
        {
          "output_type": "execute_result",
          "data": {
            "text/plain": [
              "numpy.ndarray"
            ]
          },
          "metadata": {},
          "execution_count": 23
        }
      ]
    },
    {
      "cell_type": "code",
      "metadata": {
        "colab": {
          "base_uri": "https://localhost:8080/"
        },
        "id": "td5Potuhm_r1",
        "outputId": "7ba191b6-1366-44bf-d04b-8a223f17918e"
      },
      "source": [
        "# a[0:3]\\\n",
        "a[0]"
      ],
      "execution_count": 16,
      "outputs": [
        {
          "output_type": "execute_result",
          "data": {
            "text/plain": [
              "0"
            ]
          },
          "metadata": {},
          "execution_count": 16
        }
      ]
    },
    {
      "cell_type": "code",
      "metadata": {
        "colab": {
          "base_uri": "https://localhost:8080/"
        },
        "id": "PxaYBhgRnyge",
        "outputId": "1acccb53-b0f2-4924-cfd0-97840a6d4386"
      },
      "source": [
        "print(np.shape(a))\n",
        "print(np.ndim(a))\n",
        "print(np.size(a))\n",
        "print(a.dtype)"
      ],
      "execution_count": 24,
      "outputs": [
        {
          "output_type": "stream",
          "text": [
            "(5,)\n",
            "1\n",
            "5\n",
            "int16\n"
          ],
          "name": "stdout"
        }
      ]
    },
    {
      "cell_type": "code",
      "metadata": {
        "colab": {
          "base_uri": "https://localhost:8080/"
        },
        "id": "wb5OS-43n9D8",
        "outputId": "d42662bf-6c47-4466-aaf7-d849654a9816"
      },
      "source": [
        "array = np.array([[1,2,3],[2,3,4]], dtype=np.int32)\n",
        "print(np.shape(array))\n",
        "print(np.ndim(array))\n",
        "print(np.size(array))\n",
        "print(array.dtype)"
      ],
      "execution_count": 28,
      "outputs": [
        {
          "output_type": "stream",
          "text": [
            "(2, 3)\n",
            "2\n",
            "6\n",
            "int32\n"
          ],
          "name": "stdout"
        }
      ]
    },
    {
      "cell_type": "code",
      "metadata": {
        "colab": {
          "base_uri": "https://localhost:8080/"
        },
        "id": "0u3SUSvAsRlv",
        "outputId": "5181533b-05d8-4d92-c70e-d441409adb3c"
      },
      "source": [
        "array = np.array([range(i,i+3) for i in[1,4,7]],dtype = np.int32)\n",
        "print(array)"
      ],
      "execution_count": 29,
      "outputs": [
        {
          "output_type": "stream",
          "text": [
            "[[1 2 3]\n",
            " [4 5 6]\n",
            " [7 8 9]]\n"
          ],
          "name": "stdout"
        }
      ]
    },
    {
      "cell_type": "code",
      "metadata": {
        "colab": {
          "base_uri": "https://localhost:8080/"
        },
        "id": "9uKtQHuRtc1Q",
        "outputId": "5e6fe2af-ff87-4fc1-bde1-1f991974a798"
      },
      "source": [
        "array"
      ],
      "execution_count": 31,
      "outputs": [
        {
          "output_type": "execute_result",
          "data": {
            "text/plain": [
              "array([[1, 2, 3],\n",
              "       [4, 5, 6],\n",
              "       [7, 8, 9]], dtype=int32)"
            ]
          },
          "metadata": {},
          "execution_count": 31
        }
      ]
    },
    {
      "cell_type": "code",
      "metadata": {
        "colab": {
          "base_uri": "https://localhost:8080/"
        },
        "id": "fQ3LXxckthru",
        "outputId": "f661ca64-cc10-4607-eac2-add6069d9cea"
      },
      "source": [
        "array[0,:]\n",
        "print(array[:,2])"
      ],
      "execution_count": 35,
      "outputs": [
        {
          "output_type": "stream",
          "text": [
            "[3 6 9]\n"
          ],
          "name": "stdout"
        }
      ]
    },
    {
      "cell_type": "code",
      "metadata": {
        "colab": {
          "base_uri": "https://localhost:8080/"
        },
        "id": "4o_x4-WBuCyH",
        "outputId": "bf168a55-36ee-40b7-93a8-b8cb370f8d86"
      },
      "source": [
        "array[:,1:]"
      ],
      "execution_count": 39,
      "outputs": [
        {
          "output_type": "execute_result",
          "data": {
            "text/plain": [
              "array([[2, 3],\n",
              "       [5, 6],\n",
              "       [8, 9]], dtype=int32)"
            ]
          },
          "metadata": {},
          "execution_count": 39
        }
      ]
    },
    {
      "cell_type": "code",
      "metadata": {
        "colab": {
          "base_uri": "https://localhost:8080/"
        },
        "id": "DjMUeERfuzEh",
        "outputId": "d841cfb6-a5b7-489a-b7c9-71761b0a0656"
      },
      "source": [
        "# 행렬 만들기\n",
        "np.empty((2,3))\n",
        "np.eye(2,3)\n",
        "np.identity(2) # square matrix 정방행렬\n",
        "np.zeros((3,3))\n",
        "np.ones([3,5]) # tuple() list[]\n",
        "np.full(shape = (3,5), fill_value=5)\n",
        "np.full((5,4),3)"
      ],
      "execution_count": 50,
      "outputs": [
        {
          "output_type": "execute_result",
          "data": {
            "text/plain": [
              "array([[3, 3, 3, 3],\n",
              "       [3, 3, 3, 3],\n",
              "       [3, 3, 3, 3],\n",
              "       [3, 3, 3, 3],\n",
              "       [3, 3, 3, 3]])"
            ]
          },
          "metadata": {},
          "execution_count": 50
        }
      ]
    },
    {
      "cell_type": "code",
      "metadata": {
        "colab": {
          "base_uri": "https://localhost:8080/"
        },
        "id": "2LZcpx2Su0Hk",
        "outputId": "8fcafac6-952d-42b8-f121-79c0e7846666"
      },
      "source": [
        "np.array([[1,2],[3,5]])"
      ],
      "execution_count": 53,
      "outputs": [
        {
          "output_type": "execute_result",
          "data": {
            "text/plain": [
              "array([[1, 2],\n",
              "       [3, 5]])"
            ]
          },
          "metadata": {},
          "execution_count": 53
        }
      ]
    },
    {
      "cell_type": "code",
      "metadata": {
        "colab": {
          "base_uri": "https://localhost:8080/"
        },
        "id": "BecTR3Wnx9Pw",
        "outputId": "7d0713c6-06f8-495a-99f1-4ed5eae008dd"
      },
      "source": [
        "#  array manipulation\n",
        "\n",
        "np.arange(10)\n",
        "np.arange(1,12,2)\n",
        "arr_arange = np.arange(12)\n",
        "np.reshape(arr_arange,(-1,3))   #-1부터 시작하면 알아서 맞춰줌 열만 정해주면 됨\n",
        "# print(arr_arange)\n",
        "np.arange(12).reshape(-1,4)"
      ],
      "execution_count": 70,
      "outputs": [
        {
          "output_type": "execute_result",
          "data": {
            "text/plain": [
              "array([[ 0,  1,  2,  3],\n",
              "       [ 4,  5,  6,  7],\n",
              "       [ 8,  9, 10, 11]])"
            ]
          },
          "metadata": {},
          "execution_count": 70
        }
      ]
    },
    {
      "cell_type": "code",
      "metadata": {
        "colab": {
          "base_uri": "https://localhost:8080/"
        },
        "id": "doIj9vevzU3s",
        "outputId": "61e6ecf9-2ef2-42ea-ac4b-f9156fad4cb4"
      },
      "source": [
        "x = np.arange(1,7).reshape(-1,3)\n",
        "print(x)\n",
        "x_flat = list(x.flat)"
      ],
      "execution_count": 75,
      "outputs": [
        {
          "output_type": "stream",
          "text": [
            "[[1 2 3]\n",
            " [4 5 6]]\n"
          ],
          "name": "stdout"
        },
        {
          "output_type": "execute_result",
          "data": {
            "text/plain": [
              "[1, 2, 3, 4, 5, 6]"
            ]
          },
          "metadata": {},
          "execution_count": 75
        }
      ]
    },
    {
      "cell_type": "code",
      "metadata": {
        "colab": {
          "base_uri": "https://localhost:8080/"
        },
        "id": "760Sd8fnztdM",
        "outputId": "c12c0e8d-b7a0-4429-b2aa-dc27a8b3aa21"
      },
      "source": [
        "print(x)\n",
        "x.T # translporse"
      ],
      "execution_count": 78,
      "outputs": [
        {
          "output_type": "stream",
          "text": [
            "[[1 2 3]\n",
            " [4 5 6]]\n"
          ],
          "name": "stdout"
        },
        {
          "output_type": "execute_result",
          "data": {
            "text/plain": [
              "array([[1, 4],\n",
              "       [2, 5],\n",
              "       [3, 6]])"
            ]
          },
          "metadata": {},
          "execution_count": 78
        }
      ]
    },
    {
      "cell_type": "code",
      "metadata": {
        "colab": {
          "base_uri": "https://localhost:8080/"
        },
        "id": "WTWZZmvR0TCk",
        "outputId": "bfe9e346-ce30-4c60-9317-bb085a4d088b"
      },
      "source": [
        "x2d = np.array([[0],[1],[2]])\n",
        "x = np.array([[[0],[1],[2]]])\n",
        "print(x)\n",
        "print(x2d)\n",
        "print(np.shape(x2d), np.shape(x))\n",
        "print(x.squeeze()) # 차원 감소시키기\n",
        "print(x.squeeze(axis=0))\n",
        "print(x.squeeze(axis=0).shape) # dimension reduction\n",
        "print(x.squeeze(axis=2))\n",
        "print(x.squeeze(axis=2).shape) #괄호 세개 있으면 3차원"
      ],
      "execution_count": 100,
      "outputs": [
        {
          "output_type": "stream",
          "text": [
            "[[[0]\n",
            "  [1]\n",
            "  [2]]]\n",
            "[[0]\n",
            " [1]\n",
            " [2]]\n",
            "(3, 1) (1, 3, 1)\n",
            "[0 1 2]\n",
            "[[0]\n",
            " [1]\n",
            " [2]]\n",
            "(3, 1)\n",
            "[[0 1 2]]\n",
            "(1, 3)\n"
          ],
          "name": "stdout"
        }
      ]
    },
    {
      "cell_type": "code",
      "metadata": {
        "colab": {
          "base_uri": "https://localhost:8080/"
        },
        "id": "-id9sUm32I5y",
        "outputId": "315dacb0-99b3-4715-d07d-3dd23ee8a198"
      },
      "source": [
        "a = np.array(np.arange(3))\n",
        "b = np.array(np.arange(3,6))\n",
        "print(a)\n",
        "print(b)\n",
        "\n",
        "c = np.vstack([a,b])\n",
        "print(c)\n",
        "print(np.hstack((a,b)))\n",
        "print(np.column_stack((a,b)))"
      ],
      "execution_count": 110,
      "outputs": [
        {
          "output_type": "stream",
          "text": [
            "[0 1 2]\n",
            "[3 4 5]\n",
            "[[0 1 2]\n",
            " [3 4 5]]\n",
            "[0 1 2 3 4 5]\n",
            "[[0 3]\n",
            " [1 4]\n",
            " [2 5]]\n"
          ],
          "name": "stdout"
        }
      ]
    },
    {
      "cell_type": "code",
      "metadata": {
        "colab": {
          "base_uri": "https://localhost:8080/"
        },
        "id": "kW81QVGr7_6A",
        "outputId": "abe9d113-82db-4473-a7c3-62b05d71b86b"
      },
      "source": [
        "x= np.arange(12)+1\n",
        "\n",
        "mask = np.ones(len(x),dtype = bool)\n",
        "mask[[0,2,4]] = False\n",
        "print(mask)\n",
        "\n",
        "print(x)\n",
        "\n",
        "# 내가 원하는것만 뽑을때\n",
        "x[mask] #data selection에 많이 쓰이는 방식이다."
      ],
      "execution_count": 120,
      "outputs": [
        {
          "output_type": "stream",
          "text": [
            "[False  True False  True False  True  True  True  True  True  True  True]\n",
            "[ 1  2  3  4  5  6  7  8  9 10 11 12]\n"
          ],
          "name": "stdout"
        },
        {
          "output_type": "execute_result",
          "data": {
            "text/plain": [
              "array([ 2,  4,  6,  7,  8,  9, 10, 11, 12])"
            ]
          },
          "metadata": {},
          "execution_count": 120
        }
      ]
    },
    {
      "cell_type": "code",
      "metadata": {
        "colab": {
          "base_uri": "https://localhost:8080/"
        },
        "id": "PPRH79jU8QEi",
        "outputId": "602e90a2-f206-4e00-fd09-a10d2b850548"
      },
      "source": [
        "len(x)"
      ],
      "execution_count": 121,
      "outputs": [
        {
          "output_type": "execute_result",
          "data": {
            "text/plain": [
              "12"
            ]
          },
          "metadata": {},
          "execution_count": 121
        }
      ]
    },
    {
      "cell_type": "code",
      "metadata": {
        "colab": {
          "base_uri": "https://localhost:8080/"
        },
        "id": "w0RpglaM-CqH",
        "outputId": "8b273f20-4d84-4e7e-b061-b58af68d0e83"
      },
      "source": [
        "arr = np.array([[1,2,3,4],[5,6,7,8],[9,10,11,12]])\n",
        "print(arr)\n",
        "\n",
        "np.delete(arr,obj = 1, axis=0) # 0 행, 1열, 2 높이\n",
        "np.delete(arr, obj = np.s_[::3],axis=1)"
      ],
      "execution_count": 132,
      "outputs": [
        {
          "output_type": "stream",
          "text": [
            "[[ 1  2  3  4]\n",
            " [ 5  6  7  8]\n",
            " [ 9 10 11 12]]\n"
          ],
          "name": "stdout"
        },
        {
          "output_type": "execute_result",
          "data": {
            "text/plain": [
              "array([[ 2,  3],\n",
              "       [ 6,  7],\n",
              "       [10, 11]])"
            ]
          },
          "metadata": {},
          "execution_count": 132
        }
      ]
    },
    {
      "cell_type": "code",
      "metadata": {
        "colab": {
          "base_uri": "https://localhost:8080/"
        },
        "id": "ZfqQtUO4_UCA",
        "outputId": "f7c77c4a-cf89-4f71-b39d-f217d00a9542"
      },
      "source": [
        "a=np.array([[1,1],[2,2],[3,3]])\n",
        "print(a)\n",
        "a.shape\n",
        "np.insert(a,1,5) #행에 넣기\n",
        "np.insert(a,2,5, axis = 1) # 0 raw 1column"
      ],
      "execution_count": 141,
      "outputs": [
        {
          "output_type": "stream",
          "text": [
            "[[1 1]\n",
            " [2 2]\n",
            " [3 3]]\n"
          ],
          "name": "stdout"
        },
        {
          "output_type": "execute_result",
          "data": {
            "text/plain": [
              "array([[1, 1, 5],\n",
              "       [2, 2, 5],\n",
              "       [3, 3, 5]])"
            ]
          },
          "metadata": {},
          "execution_count": 141
        }
      ]
    },
    {
      "cell_type": "code",
      "metadata": {
        "colab": {
          "base_uri": "https://localhost:8080/"
        },
        "id": "8RRdLZlUABRT",
        "outputId": "e77891b9-a8a3-4155-e710-a18ab419a1f1"
      },
      "source": [
        "print(a)\n",
        "print(np.insert(a, 1, [2,4,6], axis = 1))\n",
        "np.insert(a, [1], [2,4,6], axis=1)"
      ],
      "execution_count": 150,
      "outputs": [
        {
          "output_type": "stream",
          "text": [
            "[[1 1]\n",
            " [2 2]\n",
            " [3 3]]\n",
            "[[1 2 1]\n",
            " [2 4 2]\n",
            " [3 6 3]]\n"
          ],
          "name": "stdout"
        },
        {
          "output_type": "execute_result",
          "data": {
            "text/plain": [
              "array([[1, 2, 4, 6, 1],\n",
              "       [2, 2, 4, 6, 2],\n",
              "       [3, 2, 4, 6, 3]])"
            ]
          },
          "metadata": {},
          "execution_count": 150
        }
      ]
    },
    {
      "cell_type": "code",
      "metadata": {
        "colab": {
          "base_uri": "https://localhost:8080/"
        },
        "id": "6cZqhRKTBBI9",
        "outputId": "f94e8ebc-6070-4c71-8f44-701217b4b898"
      },
      "source": [
        "print (a)\n",
        "\n",
        "a.flatten()\n",
        "np.insert(a,2,[5,6])"
      ],
      "execution_count": 156,
      "outputs": [
        {
          "output_type": "stream",
          "text": [
            "[[1 1]\n",
            " [2 2]\n",
            " [3 3]]\n"
          ],
          "name": "stdout"
        },
        {
          "output_type": "execute_result",
          "data": {
            "text/plain": [
              "array([1, 1, 5, 6, 2, 2, 3, 3])"
            ]
          },
          "metadata": {},
          "execution_count": 156
        }
      ]
    },
    {
      "cell_type": "code",
      "metadata": {
        "colab": {
          "base_uri": "https://localhost:8080/"
        },
        "id": "LJJKVKk_Bf8m",
        "outputId": "e0d2c6ab-05ec-490f-c3cd-9d93d0674db6"
      },
      "source": [
        "# append\n",
        "np.append([1,2,3], [[4,5,6],[7,8,9]])\n",
        "np.append([[1,2,3], [4,5,6]],[[7,8,9]],axis=0) # [[]]두개는 2차원>? axis =1 쓸때 2D array로롤\n"
      ],
      "execution_count": 161,
      "outputs": [
        {
          "output_type": "execute_result",
          "data": {
            "text/plain": [
              "array([[1, 2, 3],\n",
              "       [4, 5, 6],\n",
              "       [7, 8, 9]])"
            ]
          },
          "metadata": {},
          "execution_count": 161
        }
      ]
    },
    {
      "cell_type": "code",
      "metadata": {
        "colab": {
          "base_uri": "https://localhost:8080/"
        },
        "id": "3A2pSpaACUNT",
        "outputId": "1d4f4529-72c4-4323-f27f-06ff8e28ad73"
      },
      "source": [
        "np.unique([1,1,2,2,3,3])"
      ],
      "execution_count": 163,
      "outputs": [
        {
          "output_type": "execute_result",
          "data": {
            "text/plain": [
              "array([1, 2, 3])"
            ]
          },
          "metadata": {},
          "execution_count": 163
        }
      ]
    },
    {
      "cell_type": "code",
      "metadata": {
        "colab": {
          "base_uri": "https://localhost:8080/"
        },
        "id": "nyfpq1Z7CZKd",
        "outputId": "a2735f62-cdfc-44be-a402-ec583c4e4d06"
      },
      "source": [
        "a=np.array([[1,0,0],[1,0,0],[2,3,4]])\n",
        "print(a)\n",
        "np.unique(a, axis =1)"
      ],
      "execution_count": 168,
      "outputs": [
        {
          "output_type": "stream",
          "text": [
            "[[1 0 0]\n",
            " [1 0 0]\n",
            " [2 3 4]]\n"
          ],
          "name": "stdout"
        },
        {
          "output_type": "execute_result",
          "data": {
            "text/plain": [
              "array([[0, 0, 1],\n",
              "       [0, 0, 1],\n",
              "       [3, 4, 2]])"
            ]
          },
          "metadata": {},
          "execution_count": 168
        }
      ]
    },
    {
      "cell_type": "code",
      "metadata": {
        "colab": {
          "base_uri": "https://localhost:8080/"
        },
        "id": "glXhKe6SC8qx",
        "outputId": "26c88225-4338-4399-8437-413e34271767"
      },
      "source": [
        "a = np.array(['rose', 'rose','iris','iris','sunflower'])\n",
        "print(a)\n",
        "u, indices = np.unique(a, return_index=True)\n",
        "print(u)\n",
        "print(indices)"
      ],
      "execution_count": 177,
      "outputs": [
        {
          "output_type": "stream",
          "text": [
            "['rose' 'rose' 'iris' 'iris' 'sunflower']\n",
            "['iris' 'rose' 'sunflower']\n",
            "[2 0 4]\n"
          ],
          "name": "stdout"
        }
      ]
    },
    {
      "cell_type": "code",
      "metadata": {
        "colab": {
          "base_uri": "https://localhost:8080/"
        },
        "id": "VScGDffrVcyg",
        "outputId": "b294686f-caea-42f7-c1f3-93c660bc7150"
      },
      "source": [
        "A = np.arange(8).reshape(-1,4)\n",
        "print(A)\n",
        "\n",
        "np.flip(A)\n",
        "np.flip(A, axis = 0)\n",
        "np.flip(A, axis = 1)"
      ],
      "execution_count": 184,
      "outputs": [
        {
          "output_type": "stream",
          "text": [
            "[[0 1 2 3]\n",
            " [4 5 6 7]]\n"
          ],
          "name": "stdout"
        },
        {
          "output_type": "execute_result",
          "data": {
            "text/plain": [
              "array([[3, 2, 1, 0],\n",
              "       [7, 6, 5, 4]])"
            ]
          },
          "metadata": {},
          "execution_count": 184
        }
      ]
    },
    {
      "cell_type": "code",
      "metadata": {
        "colab": {
          "base_uri": "https://localhost:8080/"
        },
        "id": "4TPQ3z5HWdAx",
        "outputId": "21a95d0b-b9ac-4ae2-a1fe-1eac19a57b88"
      },
      "source": [
        "a=np.array([[1,4], [3,1]])\n",
        "print(a)\n",
        "\n",
        "np.sort(a,axis = 0)"
      ],
      "execution_count": 190,
      "outputs": [
        {
          "output_type": "stream",
          "text": [
            "[[1 4]\n",
            " [3 1]]\n"
          ],
          "name": "stdout"
        },
        {
          "output_type": "execute_result",
          "data": {
            "text/plain": [
              "array([[1, 1],\n",
              "       [3, 4]])"
            ]
          },
          "metadata": {},
          "execution_count": 190
        }
      ]
    },
    {
      "cell_type": "code",
      "metadata": {
        "colab": {
          "base_uri": "https://localhost:8080/"
        },
        "id": "fsf55MdwXJ2H",
        "outputId": "f00a029a-d981-47b6-fd8b-daa0d1df2a41"
      },
      "source": [
        "#  Random sampling\n",
        "np.random.rand(3,2)"
      ],
      "execution_count": 192,
      "outputs": [
        {
          "output_type": "execute_result",
          "data": {
            "text/plain": [
              "array([[0.69189363, 0.80680778],\n",
              "       [0.70949713, 0.18982778],\n",
              "       [0.29487096, 0.74742784]])"
            ]
          },
          "metadata": {},
          "execution_count": 192
        }
      ]
    },
    {
      "cell_type": "code",
      "metadata": {
        "colab": {
          "base_uri": "https://localhost:8080/"
        },
        "id": "X3ouKlfnaQdK",
        "outputId": "1d663fa6-1ebc-4fbc-9064-5b2ec0ae6b7c"
      },
      "source": [
        "np.random.randint(1, 10, (3,3))"
      ],
      "execution_count": 194,
      "outputs": [
        {
          "output_type": "execute_result",
          "data": {
            "text/plain": [
              "array([[4, 9, 7],\n",
              "       [4, 8, 7],\n",
              "       [5, 3, 6]])"
            ]
          },
          "metadata": {},
          "execution_count": 194
        }
      ]
    },
    {
      "cell_type": "code",
      "metadata": {
        "colab": {
          "base_uri": "https://localhost:8080/"
        },
        "id": "yuRurHSNaWfh",
        "outputId": "8b820fbb-6387-4fb8-b659-3725873641ca"
      },
      "source": [
        "np.random.randn(3,2) # 표준 정규분포 평균이 0이고 퍼짐의 정도가 1인 정규분포\n",
        "np.random.normal(loc = 100, scale = 10, size = 10)\n",
        "np.random.seed(830)\n",
        "np.random.normal(100,30,size = 3 ) # seed를 넣어서 랜덤값 고정"
      ],
      "execution_count": 205,
      "outputs": [
        {
          "output_type": "execute_result",
          "data": {
            "text/plain": [
              "array([114.32858157,  98.72723031, 107.38059832])"
            ]
          },
          "metadata": {},
          "execution_count": 205
        }
      ]
    },
    {
      "cell_type": "code",
      "metadata": {
        "colab": {
          "base_uri": "https://localhost:8080/"
        },
        "id": "xVXyXY2rdo6t",
        "outputId": "e6215019-5325-4921-c961-1ab86b00dc85"
      },
      "source": [
        "np.random.seed(830)\n",
        "arr = np.random.randint(10, size  = 5)\n",
        "arr\n"
      ],
      "execution_count": 212,
      "outputs": [
        {
          "output_type": "execute_result",
          "data": {
            "text/plain": [
              "array([3, 4, 3, 9, 3])"
            ]
          },
          "metadata": {},
          "execution_count": 212
        }
      ]
    },
    {
      "cell_type": "code",
      "metadata": {
        "colab": {
          "base_uri": "https://localhost:8080/"
        },
        "id": "R0E8jloNd3X8",
        "outputId": "64a23f7f-7823-4ae4-d26c-af066c8e2042"
      },
      "source": [
        "arr_arg = np.arange(10)\n",
        "print(arr_arg)\n",
        "arr_arg_shf = np.random.shuffle(arr_arg)\n",
        "print(arr_arg)"
      ],
      "execution_count": 224,
      "outputs": [
        {
          "output_type": "stream",
          "text": [
            "[0 1 2 3 4 5 6 7 8 9]\n",
            "[9 6 2 8 3 1 5 0 7 4]\n"
          ],
          "name": "stdout"
        }
      ]
    },
    {
      "cell_type": "code",
      "metadata": {
        "colab": {
          "base_uri": "https://localhost:8080/"
        },
        "id": "TwazUwrpe0DS",
        "outputId": "d517105c-5495-4ca3-cc88-e74c922c4727"
      },
      "source": [
        "# descriptive / summary statistics\n",
        "a = np.arange(4).reshape(-1,2)\n",
        "print(a)\n",
        "np.min(a, axis = 0)\n",
        "np.min(a, axis = 1)"
      ],
      "execution_count": 227,
      "outputs": [
        {
          "output_type": "stream",
          "text": [
            "[[0 1]\n",
            " [2 3]]\n"
          ],
          "name": "stdout"
        },
        {
          "output_type": "execute_result",
          "data": {
            "text/plain": [
              "array([0, 2])"
            ]
          },
          "metadata": {},
          "execution_count": 227
        }
      ]
    },
    {
      "cell_type": "code",
      "metadata": {
        "colab": {
          "base_uri": "https://localhost:8080/"
        },
        "id": "yizcZ9nsj0zw",
        "outputId": "80e8861c-a959-44b5-9a18-c887a16e9d63"
      },
      "source": [
        "print(a)\n",
        "np.max(a)\n",
        "np.max(a, axis=0) # axis = 0 column 열이다 ?????"
      ],
      "execution_count": 231,
      "outputs": [
        {
          "output_type": "stream",
          "text": [
            "[[0 1]\n",
            " [2 3]]\n"
          ],
          "name": "stdout"
        },
        {
          "output_type": "execute_result",
          "data": {
            "text/plain": [
              "array([2, 3])"
            ]
          },
          "metadata": {},
          "execution_count": 231
        }
      ]
    },
    {
      "cell_type": "code",
      "metadata": {
        "colab": {
          "base_uri": "https://localhost:8080/"
        },
        "id": "9jgzS6VVkHIj",
        "outputId": "1df47341-cb6b-4fcc-f89a-fee2aad3dc28"
      },
      "source": [
        "b= np.arange(5, dtype = float)\n",
        "b[2] = np.nan  # missing value 처리기법\n",
        "print(b)\n",
        "\n",
        "np.max(b)\n",
        "np.nanmax(b) # nan을 제외한 최대 값\n"
      ],
      "execution_count": 235,
      "outputs": [
        {
          "output_type": "stream",
          "text": [
            "[ 0.  1. nan  3.  4.]\n"
          ],
          "name": "stdout"
        },
        {
          "output_type": "execute_result",
          "data": {
            "text/plain": [
              "4.0"
            ]
          },
          "metadata": {},
          "execution_count": 235
        }
      ]
    },
    {
      "cell_type": "code",
      "metadata": {
        "colab": {
          "base_uri": "https://localhost:8080/"
        },
        "id": "fLaRPeU5lW7F",
        "outputId": "75a81496-2334-40c1-d265-3e3b8a949054"
      },
      "source": [
        "a = np.array([[10,7,4],[3,2,1]])\n",
        "print(a)\n",
        "\n",
        "np.quantile(a, 0.5) #median\n",
        "np.quantile(a, 0.5, axis=0)\n",
        "np.quantile(a, 0.5, axis=1)"
      ],
      "execution_count": 241,
      "outputs": [
        {
          "output_type": "stream",
          "text": [
            "[[10  7  4]\n",
            " [ 3  2  1]]\n"
          ],
          "name": "stdout"
        },
        {
          "output_type": "execute_result",
          "data": {
            "text/plain": [
              "array([7., 2.])"
            ]
          },
          "metadata": {},
          "execution_count": 241
        }
      ]
    },
    {
      "cell_type": "code",
      "metadata": {
        "colab": {
          "base_uri": "https://localhost:8080/"
        },
        "id": "K_qTeo3amgZE",
        "outputId": "580ac3fc-71e3-47b3-8966-8a79894b8a86"
      },
      "source": [
        "print(a)\n",
        "\n",
        "np.mean(a)\n",
        "np.median(a, axis = 0)\n",
        "np.median(a, axis = 1)"
      ],
      "execution_count": 245,
      "outputs": [
        {
          "output_type": "stream",
          "text": [
            "[[10  7  4]\n",
            " [ 3  2  1]]\n"
          ],
          "name": "stdout"
        },
        {
          "output_type": "execute_result",
          "data": {
            "text/plain": [
              "array([7., 2.])"
            ]
          },
          "metadata": {},
          "execution_count": 245
        }
      ]
    },
    {
      "cell_type": "code",
      "metadata": {
        "colab": {
          "base_uri": "https://localhost:8080/"
        },
        "id": "m1cM5J8CmvlK",
        "outputId": "c9652c00-bca3-4db9-bc01-c95842f05726"
      },
      "source": [
        "a = np.random.rand(3,3)\n",
        "print(a)\n",
        "\n",
        "np.mean(a, axis=0)\n",
        "np.median(a, axis = 0)\n",
        "np.var(a, axis = 0)   # 분산, 표준오차 개념 잡기 \n",
        "np.std(a, axis = 0)\n",
        "\n",
        "print(np.corrcoef(a)) # Column끼리의 상관관계를 나타내는 근접할수록 1에 근접\n",
        "print(np.cov(a))"
      ],
      "execution_count": 258,
      "outputs": [
        {
          "output_type": "stream",
          "text": [
            "[[0.50410642 0.36870367 0.0730111 ]\n",
            " [0.05366418 0.99758018 0.98312256]\n",
            " [0.5438358  0.64919199 0.35397832]]\n",
            "[[ 1.         -0.73276089  0.78260466]\n",
            " [-0.73276089  1.         -0.14984648]\n",
            " [ 0.78260466 -0.14984648  1.        ]]\n",
            "[[ 0.04860186 -0.08736983  0.02581227]\n",
            " [-0.08736983  0.29251322 -0.01212486]\n",
            " [ 0.02581227 -0.01212486  0.02238282]]\n"
          ],
          "name": "stdout"
        }
      ]
    },
    {
      "cell_type": "code",
      "metadata": {
        "colab": {
          "base_uri": "https://localhost:8080/"
        },
        "id": "c5HObP6MqsEP",
        "outputId": "e2271d44-81a6-4b52-c2af-f72769de4dc9"
      },
      "source": [
        "list1 = np.array([[1,2,3]])\n",
        "list2 = np.array([[4,5,5]])\n",
        "\n",
        "list1.shape\n",
        "\n",
        "np.vstack([list1,list2])\n",
        "\n",
        "np.concatenate([list1, list2], axis =0)\n"
      ],
      "execution_count": 266,
      "outputs": [
        {
          "output_type": "execute_result",
          "data": {
            "text/plain": [
              "array([[1, 2, 3],\n",
              "       [4, 5, 5]])"
            ]
          },
          "metadata": {},
          "execution_count": 266
        }
      ]
    },
    {
      "cell_type": "code",
      "metadata": {
        "colab": {
          "base_uri": "https://localhost:8080/"
        },
        "id": "aoZ1U8z1rfkb",
        "outputId": "19936c5e-ec68-4cf7-b0da-630b07e97fa9"
      },
      "source": [
        "x = np.random.random((10,3))\n",
        "print(x)\n",
        "m = np.mean(x,axis=0)\n",
        "print(m)\n",
        "\n",
        "center_x = x-m  #dimension 알아서 맞춰서 계산해줌 ~\n",
        "print(center_x)"
      ],
      "execution_count": 276,
      "outputs": [
        {
          "output_type": "stream",
          "text": [
            "[[0.2905743  0.45845661 0.29632976]\n",
            " [0.55371811 0.73234022 0.54295272]\n",
            " [0.15273924 0.76877084 0.07069582]\n",
            " [0.09200593 0.23806477 0.5879934 ]\n",
            " [0.68472606 0.69799531 0.09582799]\n",
            " [0.05251964 0.96041752 0.53397346]\n",
            " [0.16066313 0.11180047 0.42794225]\n",
            " [0.54810779 0.40705082 0.54859023]\n",
            " [0.19153743 0.36917695 0.38677031]\n",
            " [0.08727366 0.43339783 0.25946027]]\n",
            "[0.28138653 0.51774713 0.37505362]\n",
            "[[ 0.00918777 -0.05929053 -0.07872386]\n",
            " [ 0.27233158  0.21459309  0.1678991 ]\n",
            " [-0.12864729  0.2510237  -0.3043578 ]\n",
            " [-0.1893806  -0.27968237  0.21293978]\n",
            " [ 0.40333953  0.18024818 -0.27922563]\n",
            " [-0.22886689  0.44267039  0.15891984]\n",
            " [-0.1207234  -0.40594667  0.05288862]\n",
            " [ 0.26672126 -0.11069632  0.17353661]\n",
            " [-0.0898491  -0.14857018  0.01171669]\n",
            " [-0.19411287 -0.0843493  -0.11559335]]\n"
          ],
          "name": "stdout"
        }
      ]
    },
    {
      "cell_type": "code",
      "metadata": {
        "colab": {
          "base_uri": "https://localhost:8080/"
        },
        "id": "kEiGFlYdtEvD",
        "outputId": "e85cacd4-26bf-43a9-831c-c89c91270e89"
      },
      "source": [
        "center_x > 0.2\n",
        "(center_x>0.2)| (center_x <0.200001)\n",
        "\n",
        "arr_mask = center_x>0.1\n",
        "print(arr_mask)"
      ],
      "execution_count": 285,
      "outputs": [
        {
          "output_type": "stream",
          "text": [
            "[[False False False]\n",
            " [ True  True  True]\n",
            " [False  True False]\n",
            " [False False  True]\n",
            " [ True  True False]\n",
            " [False  True  True]\n",
            " [False False False]\n",
            " [ True False  True]\n",
            " [False False False]\n",
            " [False False False]]\n"
          ],
          "name": "stdout"
        }
      ]
    },
    {
      "cell_type": "code",
      "metadata": {
        "colab": {
          "base_uri": "https://localhost:8080/"
        },
        "id": "kHX93PW5xZR8",
        "outputId": "6c94859b-4231-4ff9-e287-25b5f1282cf4"
      },
      "source": [
        "array1 = np.arange(10)\n",
        "print(array1)\n",
        "array2 = array1\n",
        "array3 = array1.copy()\n",
        "array2[9] = 100\n",
        "print(array1)\n",
        "print(array2)\n",
        "print(array3)"
      ],
      "execution_count": 293,
      "outputs": [
        {
          "output_type": "stream",
          "text": [
            "[0 1 2 3 4 5 6 7 8 9]\n",
            "[  0   1   2   3   4   5   6   7   8 100]\n",
            "[  0   1   2   3   4   5   6   7   8 100]\n",
            "[0 1 2 3 4 5 6 7 8 9]\n"
          ],
          "name": "stdout"
        }
      ]
    },
    {
      "cell_type": "code",
      "metadata": {
        "colab": {
          "base_uri": "https://localhost:8080/"
        },
        "id": "JqKZ-dolyPg_",
        "outputId": "706d248d-47c1-4263-fb6a-c561cdad5ac0"
      },
      "source": [
        "array1 = np.arange(10)\n",
        "array2 = np.random.randint(10, size=5)\n",
        "print(array1)\n",
        "print(array2)\n",
        "\n",
        "np.save('arra1.npy',array1)\n",
        "load_np = np.load('arra1.npy')\n",
        "print(load_np)\n",
        "\n",
        "np.savez('np_arrays.npz',array1 = array1, array2=array2)\n",
        "data_load = np.load('np_arrays.npz')\n",
        "\n",
        "data1 = data_load['array1']\n",
        "data2 = data_load['array2']"
      ],
      "execution_count": 296,
      "outputs": [
        {
          "output_type": "stream",
          "text": [
            "[0 1 2 3 4 5 6 7 8 9]\n",
            "[2 1 0 2 3]\n",
            "[0 1 2 3 4 5 6 7 8 9]\n"
          ],
          "name": "stdout"
        }
      ]
    },
    {
      "cell_type": "code",
      "metadata": {
        "colab": {
          "base_uri": "https://localhost:8080/"
        },
        "id": "ycdTXish0NII",
        "outputId": "bc668115-8dd8-49b9-c7e8-7e9ed6e6dd13"
      },
      "source": [
        "array1 = [1,2,3,4]\n",
        "print(type(array1)) #list는 원소연산이 불편\n",
        "\n",
        "array2 = np.array([1,2,3,4])\n",
        "type(array2)\n",
        "print(array2)"
      ],
      "execution_count": 300,
      "outputs": [
        {
          "output_type": "stream",
          "text": [
            "<class 'list'>\n",
            "[1 2 3 4]\n"
          ],
          "name": "stdout"
        }
      ]
    },
    {
      "cell_type": "code",
      "metadata": {
        "id": "nowXFbce3-qb"
      },
      "source": [
        "import numpy as np\n",
        "import pandas as pd"
      ],
      "execution_count": 305,
      "outputs": []
    },
    {
      "cell_type": "code",
      "metadata": {
        "colab": {
          "base_uri": "https://localhost:8080/",
          "height": 225
        },
        "id": "XTOo3mpG4M5J",
        "outputId": "d11bd7d0-e2e9-4b52-97ee-269f29c21283"
      },
      "source": [
        "df = pd.DataFrame({\n",
        "    'hdz' : ['yes','no','no', 'no', 'yes', 'no'],\n",
        "    'chestpain':['yes','yes','no', 'yes', 'no', 'yes'],\n",
        "    'cholesterol':[208,282,235, 277, 280, 242],\n",
        "    'sysbp':[160,140,188, 162, 122, 143]\n",
        "}, index = np.arange(2,8))\n",
        "\n",
        "df"
      ],
      "execution_count": 418,
      "outputs": [
        {
          "output_type": "execute_result",
          "data": {
            "text/html": [
              "<div>\n",
              "<style scoped>\n",
              "    .dataframe tbody tr th:only-of-type {\n",
              "        vertical-align: middle;\n",
              "    }\n",
              "\n",
              "    .dataframe tbody tr th {\n",
              "        vertical-align: top;\n",
              "    }\n",
              "\n",
              "    .dataframe thead th {\n",
              "        text-align: right;\n",
              "    }\n",
              "</style>\n",
              "<table border=\"1\" class=\"dataframe\">\n",
              "  <thead>\n",
              "    <tr style=\"text-align: right;\">\n",
              "      <th></th>\n",
              "      <th>hdz</th>\n",
              "      <th>chestpain</th>\n",
              "      <th>cholesterol</th>\n",
              "      <th>sysbp</th>\n",
              "    </tr>\n",
              "  </thead>\n",
              "  <tbody>\n",
              "    <tr>\n",
              "      <th>2</th>\n",
              "      <td>yes</td>\n",
              "      <td>yes</td>\n",
              "      <td>208</td>\n",
              "      <td>160</td>\n",
              "    </tr>\n",
              "    <tr>\n",
              "      <th>3</th>\n",
              "      <td>no</td>\n",
              "      <td>yes</td>\n",
              "      <td>282</td>\n",
              "      <td>140</td>\n",
              "    </tr>\n",
              "    <tr>\n",
              "      <th>4</th>\n",
              "      <td>no</td>\n",
              "      <td>no</td>\n",
              "      <td>235</td>\n",
              "      <td>188</td>\n",
              "    </tr>\n",
              "    <tr>\n",
              "      <th>5</th>\n",
              "      <td>no</td>\n",
              "      <td>yes</td>\n",
              "      <td>277</td>\n",
              "      <td>162</td>\n",
              "    </tr>\n",
              "    <tr>\n",
              "      <th>6</th>\n",
              "      <td>yes</td>\n",
              "      <td>no</td>\n",
              "      <td>280</td>\n",
              "      <td>122</td>\n",
              "    </tr>\n",
              "    <tr>\n",
              "      <th>7</th>\n",
              "      <td>no</td>\n",
              "      <td>yes</td>\n",
              "      <td>242</td>\n",
              "      <td>143</td>\n",
              "    </tr>\n",
              "  </tbody>\n",
              "</table>\n",
              "</div>"
            ],
            "text/plain": [
              "   hdz chestpain  cholesterol  sysbp\n",
              "2  yes       yes          208    160\n",
              "3   no       yes          282    140\n",
              "4   no        no          235    188\n",
              "5   no       yes          277    162\n",
              "6  yes        no          280    122\n",
              "7   no       yes          242    143"
            ]
          },
          "metadata": {},
          "execution_count": 418
        }
      ]
    },
    {
      "cell_type": "code",
      "metadata": {
        "colab": {
          "base_uri": "https://localhost:8080/",
          "height": 301
        },
        "id": "EEjJWCwq5xVZ",
        "outputId": "c6afad73-fa0c-489b-c165-7998336e14d2"
      },
      "source": [
        "type(df)\n",
        "df.shape\n",
        "df.columns\n",
        "df.ndim\n",
        "\n",
        "print(df.head()) #함수  호출\n",
        "df.tail()"
      ],
      "execution_count": 333,
      "outputs": [
        {
          "output_type": "stream",
          "text": [
            "   hdz chestpain  cholesterol  sysbp\n",
            "2  yes       yes          208    160\n",
            "3   no       yes          282    140\n",
            "4   no        no          235    188\n",
            "5   no       yes          277    162\n",
            "6  yes        no          280    122\n"
          ],
          "name": "stdout"
        },
        {
          "output_type": "execute_result",
          "data": {
            "text/html": [
              "<div>\n",
              "<style scoped>\n",
              "    .dataframe tbody tr th:only-of-type {\n",
              "        vertical-align: middle;\n",
              "    }\n",
              "\n",
              "    .dataframe tbody tr th {\n",
              "        vertical-align: top;\n",
              "    }\n",
              "\n",
              "    .dataframe thead th {\n",
              "        text-align: right;\n",
              "    }\n",
              "</style>\n",
              "<table border=\"1\" class=\"dataframe\">\n",
              "  <thead>\n",
              "    <tr style=\"text-align: right;\">\n",
              "      <th></th>\n",
              "      <th>hdz</th>\n",
              "      <th>chestpain</th>\n",
              "      <th>cholesterol</th>\n",
              "      <th>sysbp</th>\n",
              "    </tr>\n",
              "  </thead>\n",
              "  <tbody>\n",
              "    <tr>\n",
              "      <th>3</th>\n",
              "      <td>no</td>\n",
              "      <td>yes</td>\n",
              "      <td>282</td>\n",
              "      <td>140</td>\n",
              "    </tr>\n",
              "    <tr>\n",
              "      <th>4</th>\n",
              "      <td>no</td>\n",
              "      <td>no</td>\n",
              "      <td>235</td>\n",
              "      <td>188</td>\n",
              "    </tr>\n",
              "    <tr>\n",
              "      <th>5</th>\n",
              "      <td>no</td>\n",
              "      <td>yes</td>\n",
              "      <td>277</td>\n",
              "      <td>162</td>\n",
              "    </tr>\n",
              "    <tr>\n",
              "      <th>6</th>\n",
              "      <td>yes</td>\n",
              "      <td>no</td>\n",
              "      <td>280</td>\n",
              "      <td>122</td>\n",
              "    </tr>\n",
              "    <tr>\n",
              "      <th>7</th>\n",
              "      <td>no</td>\n",
              "      <td>yes</td>\n",
              "      <td>242</td>\n",
              "      <td>143</td>\n",
              "    </tr>\n",
              "  </tbody>\n",
              "</table>\n",
              "</div>"
            ],
            "text/plain": [
              "   hdz chestpain  cholesterol  sysbp\n",
              "3   no       yes          282    140\n",
              "4   no        no          235    188\n",
              "5   no       yes          277    162\n",
              "6  yes        no          280    122\n",
              "7   no       yes          242    143"
            ]
          },
          "metadata": {},
          "execution_count": 333
        }
      ]
    },
    {
      "cell_type": "code",
      "metadata": {
        "colab": {
          "base_uri": "https://localhost:8080/",
          "height": 195
        },
        "id": "P-i7pNDj6xll",
        "outputId": "9e3181df-0b11-4d7d-9c12-d4267e77a084"
      },
      "source": [
        "df.tail()\n",
        "df[['chestpain','sysbp']].head()"
      ],
      "execution_count": 334,
      "outputs": [
        {
          "output_type": "execute_result",
          "data": {
            "text/html": [
              "<div>\n",
              "<style scoped>\n",
              "    .dataframe tbody tr th:only-of-type {\n",
              "        vertical-align: middle;\n",
              "    }\n",
              "\n",
              "    .dataframe tbody tr th {\n",
              "        vertical-align: top;\n",
              "    }\n",
              "\n",
              "    .dataframe thead th {\n",
              "        text-align: right;\n",
              "    }\n",
              "</style>\n",
              "<table border=\"1\" class=\"dataframe\">\n",
              "  <thead>\n",
              "    <tr style=\"text-align: right;\">\n",
              "      <th></th>\n",
              "      <th>chestpain</th>\n",
              "      <th>sysbp</th>\n",
              "    </tr>\n",
              "  </thead>\n",
              "  <tbody>\n",
              "    <tr>\n",
              "      <th>2</th>\n",
              "      <td>yes</td>\n",
              "      <td>160</td>\n",
              "    </tr>\n",
              "    <tr>\n",
              "      <th>3</th>\n",
              "      <td>yes</td>\n",
              "      <td>140</td>\n",
              "    </tr>\n",
              "    <tr>\n",
              "      <th>4</th>\n",
              "      <td>no</td>\n",
              "      <td>188</td>\n",
              "    </tr>\n",
              "    <tr>\n",
              "      <th>5</th>\n",
              "      <td>yes</td>\n",
              "      <td>162</td>\n",
              "    </tr>\n",
              "    <tr>\n",
              "      <th>6</th>\n",
              "      <td>no</td>\n",
              "      <td>122</td>\n",
              "    </tr>\n",
              "  </tbody>\n",
              "</table>\n",
              "</div>"
            ],
            "text/plain": [
              "  chestpain  sysbp\n",
              "2       yes    160\n",
              "3       yes    140\n",
              "4        no    188\n",
              "5       yes    162\n",
              "6        no    122"
            ]
          },
          "metadata": {},
          "execution_count": 334
        }
      ]
    },
    {
      "cell_type": "code",
      "metadata": {
        "colab": {
          "base_uri": "https://localhost:8080/",
          "height": 106
        },
        "id": "zvAqDlTq-iQg",
        "outputId": "c61d24ca-a361-4fe3-c1c9-b35318d539ab"
      },
      "source": [
        "# Fancy indexing !!!!!\n",
        "df.head()\n",
        "df[['hdz']]\n",
        "df.loc[4:7:2, ['chestpain','sysbp']]\n",
        "df.loc[[4,6], ['cholesterol']]"
      ],
      "execution_count": 350,
      "outputs": [
        {
          "output_type": "execute_result",
          "data": {
            "text/html": [
              "<div>\n",
              "<style scoped>\n",
              "    .dataframe tbody tr th:only-of-type {\n",
              "        vertical-align: middle;\n",
              "    }\n",
              "\n",
              "    .dataframe tbody tr th {\n",
              "        vertical-align: top;\n",
              "    }\n",
              "\n",
              "    .dataframe thead th {\n",
              "        text-align: right;\n",
              "    }\n",
              "</style>\n",
              "<table border=\"1\" class=\"dataframe\">\n",
              "  <thead>\n",
              "    <tr style=\"text-align: right;\">\n",
              "      <th></th>\n",
              "      <th>cholesterol</th>\n",
              "    </tr>\n",
              "  </thead>\n",
              "  <tbody>\n",
              "    <tr>\n",
              "      <th>4</th>\n",
              "      <td>235</td>\n",
              "    </tr>\n",
              "    <tr>\n",
              "      <th>6</th>\n",
              "      <td>280</td>\n",
              "    </tr>\n",
              "  </tbody>\n",
              "</table>\n",
              "</div>"
            ],
            "text/plain": [
              "   cholesterol\n",
              "4          235\n",
              "6          280"
            ]
          },
          "metadata": {},
          "execution_count": 350
        }
      ]
    },
    {
      "cell_type": "code",
      "metadata": {
        "colab": {
          "base_uri": "https://localhost:8080/",
          "height": 225
        },
        "id": "dDg4wZeNBCv8",
        "outputId": "f36cb688-fae4-4d93-f5c1-89776975c49b"
      },
      "source": [
        "#문제 1 chestpain의 3번째 ,5번째 자료를 추출하라\n",
        "\n",
        "df.loc[[3,5],['chestpain']]\n",
        "#문제2 chestpain, cholesterol, sysbp 의 변수들의 5~10번째 자료를 loc index를 이용하여 추출하라\n",
        "df.loc[6:,['chestpain','cholesterol','sysbp']]\n",
        "# hdz 열 전체 추출\n",
        "df.loc[:,'hdz']\n",
        "#문제4 , 열의 수서를 바꾸어서 loc index를 이용하여 추출하라\n",
        "df.loc[:,['sysbp','cholesterol']]"
      ],
      "execution_count": 364,
      "outputs": [
        {
          "output_type": "execute_result",
          "data": {
            "text/html": [
              "<div>\n",
              "<style scoped>\n",
              "    .dataframe tbody tr th:only-of-type {\n",
              "        vertical-align: middle;\n",
              "    }\n",
              "\n",
              "    .dataframe tbody tr th {\n",
              "        vertical-align: top;\n",
              "    }\n",
              "\n",
              "    .dataframe thead th {\n",
              "        text-align: right;\n",
              "    }\n",
              "</style>\n",
              "<table border=\"1\" class=\"dataframe\">\n",
              "  <thead>\n",
              "    <tr style=\"text-align: right;\">\n",
              "      <th></th>\n",
              "      <th>sysbp</th>\n",
              "      <th>cholesterol</th>\n",
              "    </tr>\n",
              "  </thead>\n",
              "  <tbody>\n",
              "    <tr>\n",
              "      <th>2</th>\n",
              "      <td>160</td>\n",
              "      <td>208</td>\n",
              "    </tr>\n",
              "    <tr>\n",
              "      <th>3</th>\n",
              "      <td>140</td>\n",
              "      <td>282</td>\n",
              "    </tr>\n",
              "    <tr>\n",
              "      <th>4</th>\n",
              "      <td>188</td>\n",
              "      <td>235</td>\n",
              "    </tr>\n",
              "    <tr>\n",
              "      <th>5</th>\n",
              "      <td>162</td>\n",
              "      <td>277</td>\n",
              "    </tr>\n",
              "    <tr>\n",
              "      <th>6</th>\n",
              "      <td>122</td>\n",
              "      <td>280</td>\n",
              "    </tr>\n",
              "    <tr>\n",
              "      <th>7</th>\n",
              "      <td>143</td>\n",
              "      <td>242</td>\n",
              "    </tr>\n",
              "  </tbody>\n",
              "</table>\n",
              "</div>"
            ],
            "text/plain": [
              "   sysbp  cholesterol\n",
              "2    160          208\n",
              "3    140          282\n",
              "4    188          235\n",
              "5    162          277\n",
              "6    122          280\n",
              "7    143          242"
            ]
          },
          "metadata": {},
          "execution_count": 364
        }
      ]
    },
    {
      "cell_type": "code",
      "metadata": {
        "colab": {
          "base_uri": "https://localhost:8080/",
          "height": 195
        },
        "id": "MKferzqjCSF1",
        "outputId": "4de897d9-6011-42bd-b3fc-40b11adcfca6"
      },
      "source": [
        "df.head() # 인덱스 0 1 2 3 4 까지"
      ],
      "execution_count": 366,
      "outputs": [
        {
          "output_type": "execute_result",
          "data": {
            "text/html": [
              "<div>\n",
              "<style scoped>\n",
              "    .dataframe tbody tr th:only-of-type {\n",
              "        vertical-align: middle;\n",
              "    }\n",
              "\n",
              "    .dataframe tbody tr th {\n",
              "        vertical-align: top;\n",
              "    }\n",
              "\n",
              "    .dataframe thead th {\n",
              "        text-align: right;\n",
              "    }\n",
              "</style>\n",
              "<table border=\"1\" class=\"dataframe\">\n",
              "  <thead>\n",
              "    <tr style=\"text-align: right;\">\n",
              "      <th></th>\n",
              "      <th>hdz</th>\n",
              "      <th>chestpain</th>\n",
              "      <th>cholesterol</th>\n",
              "      <th>sysbp</th>\n",
              "    </tr>\n",
              "  </thead>\n",
              "  <tbody>\n",
              "    <tr>\n",
              "      <th>2</th>\n",
              "      <td>yes</td>\n",
              "      <td>yes</td>\n",
              "      <td>208</td>\n",
              "      <td>160</td>\n",
              "    </tr>\n",
              "    <tr>\n",
              "      <th>3</th>\n",
              "      <td>no</td>\n",
              "      <td>yes</td>\n",
              "      <td>282</td>\n",
              "      <td>140</td>\n",
              "    </tr>\n",
              "    <tr>\n",
              "      <th>4</th>\n",
              "      <td>no</td>\n",
              "      <td>no</td>\n",
              "      <td>235</td>\n",
              "      <td>188</td>\n",
              "    </tr>\n",
              "    <tr>\n",
              "      <th>5</th>\n",
              "      <td>no</td>\n",
              "      <td>yes</td>\n",
              "      <td>277</td>\n",
              "      <td>162</td>\n",
              "    </tr>\n",
              "    <tr>\n",
              "      <th>6</th>\n",
              "      <td>yes</td>\n",
              "      <td>no</td>\n",
              "      <td>280</td>\n",
              "      <td>122</td>\n",
              "    </tr>\n",
              "  </tbody>\n",
              "</table>\n",
              "</div>"
            ],
            "text/plain": [
              "   hdz chestpain  cholesterol  sysbp\n",
              "2  yes       yes          208    160\n",
              "3   no       yes          282    140\n",
              "4   no        no          235    188\n",
              "5   no       yes          277    162\n",
              "6  yes        no          280    122"
            ]
          },
          "metadata": {},
          "execution_count": 366
        }
      ]
    },
    {
      "cell_type": "code",
      "metadata": {
        "colab": {
          "base_uri": "https://localhost:8080/"
        },
        "id": "McioJtyfCm96",
        "outputId": "97a49611-b9dd-43d8-f7da-7ee2cc551587"
      },
      "source": [
        "#iloc 가즈아 loc랑 다른데 편한 때가 있음ㅇ 사이 값을 가지고 추출@!@@@@\n",
        "df.iloc[0:1,:] # 행으로 0~1 까지 전체를 추출하라는 의미!!!!!!!!!!!!!!!!!!!!!!!!\n",
        "df.iloc[0:5,1:3]\n",
        "df.iloc[0,0:3]"
      ],
      "execution_count": 380,
      "outputs": [
        {
          "output_type": "execute_result",
          "data": {
            "text/plain": [
              "hdz            yes\n",
              "chestpain      yes\n",
              "cholesterol    208\n",
              "Name: 2, dtype: object"
            ]
          },
          "metadata": {},
          "execution_count": 380
        }
      ]
    },
    {
      "cell_type": "code",
      "metadata": {
        "colab": {
          "base_uri": "https://localhost:8080/",
          "height": 225
        },
        "id": "iZvybYkJDtDF",
        "outputId": "9e08520a-e63e-4fdf-80c8-178ebfaed156"
      },
      "source": [
        "# 문제1. chestpain 의 3번째와 5번째 자료를 iloc index를 이용하여 추출하여라\n",
        "df.iloc[[2,4],1:2]\n",
        "# 문제 4, 열의 순서를 바꾸어서 iloc index를 이용하여 추출하여라.\n",
        "df.iloc[:,::-1]"
      ],
      "execution_count": 384,
      "outputs": [
        {
          "output_type": "execute_result",
          "data": {
            "text/html": [
              "<div>\n",
              "<style scoped>\n",
              "    .dataframe tbody tr th:only-of-type {\n",
              "        vertical-align: middle;\n",
              "    }\n",
              "\n",
              "    .dataframe tbody tr th {\n",
              "        vertical-align: top;\n",
              "    }\n",
              "\n",
              "    .dataframe thead th {\n",
              "        text-align: right;\n",
              "    }\n",
              "</style>\n",
              "<table border=\"1\" class=\"dataframe\">\n",
              "  <thead>\n",
              "    <tr style=\"text-align: right;\">\n",
              "      <th></th>\n",
              "      <th>sysbp</th>\n",
              "      <th>cholesterol</th>\n",
              "      <th>chestpain</th>\n",
              "      <th>hdz</th>\n",
              "    </tr>\n",
              "  </thead>\n",
              "  <tbody>\n",
              "    <tr>\n",
              "      <th>2</th>\n",
              "      <td>160</td>\n",
              "      <td>208</td>\n",
              "      <td>yes</td>\n",
              "      <td>yes</td>\n",
              "    </tr>\n",
              "    <tr>\n",
              "      <th>3</th>\n",
              "      <td>140</td>\n",
              "      <td>282</td>\n",
              "      <td>yes</td>\n",
              "      <td>no</td>\n",
              "    </tr>\n",
              "    <tr>\n",
              "      <th>4</th>\n",
              "      <td>188</td>\n",
              "      <td>235</td>\n",
              "      <td>no</td>\n",
              "      <td>no</td>\n",
              "    </tr>\n",
              "    <tr>\n",
              "      <th>5</th>\n",
              "      <td>162</td>\n",
              "      <td>277</td>\n",
              "      <td>yes</td>\n",
              "      <td>no</td>\n",
              "    </tr>\n",
              "    <tr>\n",
              "      <th>6</th>\n",
              "      <td>122</td>\n",
              "      <td>280</td>\n",
              "      <td>no</td>\n",
              "      <td>yes</td>\n",
              "    </tr>\n",
              "    <tr>\n",
              "      <th>7</th>\n",
              "      <td>143</td>\n",
              "      <td>242</td>\n",
              "      <td>yes</td>\n",
              "      <td>no</td>\n",
              "    </tr>\n",
              "  </tbody>\n",
              "</table>\n",
              "</div>"
            ],
            "text/plain": [
              "   sysbp  cholesterol chestpain  hdz\n",
              "2    160          208       yes  yes\n",
              "3    140          282       yes   no\n",
              "4    188          235        no   no\n",
              "5    162          277       yes   no\n",
              "6    122          280        no  yes\n",
              "7    143          242       yes   no"
            ]
          },
          "metadata": {},
          "execution_count": 384
        }
      ]
    },
    {
      "cell_type": "code",
      "metadata": {
        "colab": {
          "base_uri": "https://localhost:8080/",
          "height": 195
        },
        "id": "CxgM_9EaEjsF",
        "outputId": "24cf3efa-4389-4327-c306-d1271a8edaf6"
      },
      "source": [
        "df.loc[5,'sysbp'] = 200\n",
        "df.loc[:]\n",
        "df.iloc[3,3] = 200\n",
        "df.head()\n",
        "\n",
        "df.loc[4:6,'sysbp'] = [200,201,202]\n",
        "df.head()"
      ],
      "execution_count": 394,
      "outputs": [
        {
          "output_type": "execute_result",
          "data": {
            "text/html": [
              "<div>\n",
              "<style scoped>\n",
              "    .dataframe tbody tr th:only-of-type {\n",
              "        vertical-align: middle;\n",
              "    }\n",
              "\n",
              "    .dataframe tbody tr th {\n",
              "        vertical-align: top;\n",
              "    }\n",
              "\n",
              "    .dataframe thead th {\n",
              "        text-align: right;\n",
              "    }\n",
              "</style>\n",
              "<table border=\"1\" class=\"dataframe\">\n",
              "  <thead>\n",
              "    <tr style=\"text-align: right;\">\n",
              "      <th></th>\n",
              "      <th>hdz</th>\n",
              "      <th>chestpain</th>\n",
              "      <th>cholesterol</th>\n",
              "      <th>sysbp</th>\n",
              "    </tr>\n",
              "  </thead>\n",
              "  <tbody>\n",
              "    <tr>\n",
              "      <th>2</th>\n",
              "      <td>yes</td>\n",
              "      <td>yes</td>\n",
              "      <td>208</td>\n",
              "      <td>200</td>\n",
              "    </tr>\n",
              "    <tr>\n",
              "      <th>3</th>\n",
              "      <td>no</td>\n",
              "      <td>yes</td>\n",
              "      <td>282</td>\n",
              "      <td>201</td>\n",
              "    </tr>\n",
              "    <tr>\n",
              "      <th>4</th>\n",
              "      <td>no</td>\n",
              "      <td>no</td>\n",
              "      <td>235</td>\n",
              "      <td>200</td>\n",
              "    </tr>\n",
              "    <tr>\n",
              "      <th>5</th>\n",
              "      <td>no</td>\n",
              "      <td>yes</td>\n",
              "      <td>277</td>\n",
              "      <td>201</td>\n",
              "    </tr>\n",
              "    <tr>\n",
              "      <th>6</th>\n",
              "      <td>yes</td>\n",
              "      <td>no</td>\n",
              "      <td>280</td>\n",
              "      <td>202</td>\n",
              "    </tr>\n",
              "  </tbody>\n",
              "</table>\n",
              "</div>"
            ],
            "text/plain": [
              "   hdz chestpain  cholesterol  sysbp\n",
              "2  yes       yes          208    200\n",
              "3   no       yes          282    201\n",
              "4   no        no          235    200\n",
              "5   no       yes          277    201\n",
              "6  yes        no          280    202"
            ]
          },
          "metadata": {},
          "execution_count": 394
        }
      ]
    },
    {
      "cell_type": "code",
      "metadata": {
        "colab": {
          "base_uri": "https://localhost:8080/",
          "height": 289
        },
        "id": "twKzPT9uGNhh",
        "outputId": "454c8bd8-edbc-4e06-d63d-a42bf0d4af85"
      },
      "source": [
        "# ==, 같다  \n",
        "# !=, 다르다\n",
        "# >, 크다 \n",
        "# <,  작다\n",
        "# >=, 크거나 같다\n",
        "# <=, 작거나 같다\n",
        "cp = df['chestpain'] == 'yes'\n",
        "print(cp)\n",
        "\n",
        "df[cp]"
      ],
      "execution_count": 402,
      "outputs": [
        {
          "output_type": "stream",
          "text": [
            "2     True\n",
            "3     True\n",
            "4    False\n",
            "5     True\n",
            "6    False\n",
            "7     True\n",
            "Name: chestpain, dtype: bool\n"
          ],
          "name": "stdout"
        },
        {
          "output_type": "execute_result",
          "data": {
            "text/html": [
              "<div>\n",
              "<style scoped>\n",
              "    .dataframe tbody tr th:only-of-type {\n",
              "        vertical-align: middle;\n",
              "    }\n",
              "\n",
              "    .dataframe tbody tr th {\n",
              "        vertical-align: top;\n",
              "    }\n",
              "\n",
              "    .dataframe thead th {\n",
              "        text-align: right;\n",
              "    }\n",
              "</style>\n",
              "<table border=\"1\" class=\"dataframe\">\n",
              "  <thead>\n",
              "    <tr style=\"text-align: right;\">\n",
              "      <th></th>\n",
              "      <th>hdz</th>\n",
              "      <th>chestpain</th>\n",
              "      <th>cholesterol</th>\n",
              "      <th>sysbp</th>\n",
              "    </tr>\n",
              "  </thead>\n",
              "  <tbody>\n",
              "    <tr>\n",
              "      <th>2</th>\n",
              "      <td>yes</td>\n",
              "      <td>yes</td>\n",
              "      <td>208</td>\n",
              "      <td>200</td>\n",
              "    </tr>\n",
              "    <tr>\n",
              "      <th>3</th>\n",
              "      <td>no</td>\n",
              "      <td>yes</td>\n",
              "      <td>282</td>\n",
              "      <td>201</td>\n",
              "    </tr>\n",
              "    <tr>\n",
              "      <th>5</th>\n",
              "      <td>no</td>\n",
              "      <td>yes</td>\n",
              "      <td>277</td>\n",
              "      <td>201</td>\n",
              "    </tr>\n",
              "    <tr>\n",
              "      <th>7</th>\n",
              "      <td>no</td>\n",
              "      <td>yes</td>\n",
              "      <td>242</td>\n",
              "      <td>143</td>\n",
              "    </tr>\n",
              "  </tbody>\n",
              "</table>\n",
              "</div>"
            ],
            "text/plain": [
              "   hdz chestpain  cholesterol  sysbp\n",
              "2  yes       yes          208    200\n",
              "3   no       yes          282    201\n",
              "5   no       yes          277    201\n",
              "7   no       yes          242    143"
            ]
          },
          "metadata": {},
          "execution_count": 402
        }
      ]
    },
    {
      "cell_type": "code",
      "metadata": {
        "colab": {
          "base_uri": "https://localhost:8080/",
          "height": 77
        },
        "id": "bvMvkmAEGl5x",
        "outputId": "778134df-ab51-465f-df35-3bee3b0894ed"
      },
      "source": [
        "df.head()\n",
        "ch =df['cholesterol'] > 240\n",
        "df[ch]\n",
        "#df[ch]\n",
        "#df[df['cholesterol']>210]\n",
        "fill_ch_bp = (df['cholesterol'] > 200) & (df['sysbp'] > 170)\n",
        "df[fill_ch_bp]"
      ],
      "execution_count": 420,
      "outputs": [
        {
          "output_type": "execute_result",
          "data": {
            "text/html": [
              "<div>\n",
              "<style scoped>\n",
              "    .dataframe tbody tr th:only-of-type {\n",
              "        vertical-align: middle;\n",
              "    }\n",
              "\n",
              "    .dataframe tbody tr th {\n",
              "        vertical-align: top;\n",
              "    }\n",
              "\n",
              "    .dataframe thead th {\n",
              "        text-align: right;\n",
              "    }\n",
              "</style>\n",
              "<table border=\"1\" class=\"dataframe\">\n",
              "  <thead>\n",
              "    <tr style=\"text-align: right;\">\n",
              "      <th></th>\n",
              "      <th>hdz</th>\n",
              "      <th>chestpain</th>\n",
              "      <th>cholesterol</th>\n",
              "      <th>sysbp</th>\n",
              "    </tr>\n",
              "  </thead>\n",
              "  <tbody>\n",
              "    <tr>\n",
              "      <th>4</th>\n",
              "      <td>no</td>\n",
              "      <td>no</td>\n",
              "      <td>235</td>\n",
              "      <td>188</td>\n",
              "    </tr>\n",
              "  </tbody>\n",
              "</table>\n",
              "</div>"
            ],
            "text/plain": [
              "  hdz chestpain  cholesterol  sysbp\n",
              "4  no        no          235    188"
            ]
          },
          "metadata": {},
          "execution_count": 420
        }
      ]
    }
  ]
}