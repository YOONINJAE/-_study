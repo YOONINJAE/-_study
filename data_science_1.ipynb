{
  "nbformat": 4,
  "nbformat_minor": 0,
  "metadata": {
    "colab": {
      "name": "data_science_1.ipynb",
      "provenance": [],
      "collapsed_sections": [],
      "authorship_tag": "ABX9TyO+ukjhhtZD9cXTFHud2AKm",
      "include_colab_link": true
    },
    "kernelspec": {
      "name": "python3",
      "display_name": "Python 3"
    },
    "language_info": {
      "name": "python"
    }
  },
  "cells": [
    {
      "cell_type": "markdown",
      "metadata": {
        "id": "view-in-github",
        "colab_type": "text"
      },
      "source": [
        "<a href=\"https://colab.research.google.com/github/YOONINJAE/winter_edu/blob/master/data_science_1.ipynb\" target=\"_parent\"><img src=\"https://colab.research.google.com/assets/colab-badge.svg\" alt=\"Open In Colab\"/></a>"
      ]
    },
    {
      "cell_type": "code",
      "metadata": {
        "colab": {
          "base_uri": "https://localhost:8080/"
        },
        "id": "QcR0c1Xai7vd",
        "outputId": "409d573e-b604-4214-ff6e-c66a5b44d22d"
      },
      "source": [
        "# numpy class\n",
        "print(\"Hello data science\")"
      ],
      "execution_count": 1,
      "outputs": [
        {
          "output_type": "stream",
          "text": [
            "Hello data science\n"
          ],
          "name": "stdout"
        }
      ]
    },
    {
      "cell_type": "code",
      "metadata": {
        "id": "VsbGqiSrkeGz"
      },
      "source": [
        "#  DAta science day 1\n",
        "## Numpy class"
      ],
      "execution_count": 5,
      "outputs": []
    },
    {
      "cell_type": "code",
      "metadata": {
        "colab": {
          "base_uri": "https://localhost:8080/",
          "height": 35
        },
        "id": "Gb1SKzy1khZu",
        "outputId": "d832af4a-66e3-4ce2-8628-fc135892c88e"
      },
      "source": [
        "import numpy as np\n",
        "np.__version__"
      ],
      "execution_count": 7,
      "outputs": [
        {
          "output_type": "execute_result",
          "data": {
            "application/vnd.google.colaboratory.intrinsic+json": {
              "type": "string"
            },
            "text/plain": [
              "'1.19.5'"
            ]
          },
          "metadata": {},
          "execution_count": 7
        }
      ]
    },
    {
      "cell_type": "code",
      "metadata": {
        "colab": {
          "base_uri": "https://localhost:8080/"
        },
        "id": "xEt4-YKLmgtq",
        "outputId": "eb5eac34-323e-460f-a34f-84d2471f1eea"
      },
      "source": [
        "a=np.array([0,1,2,3,4],dtype = np.int16)\n",
        "type(a)"
      ],
      "execution_count": 23,
      "outputs": [
        {
          "output_type": "execute_result",
          "data": {
            "text/plain": [
              "numpy.ndarray"
            ]
          },
          "metadata": {},
          "execution_count": 23
        }
      ]
    },
    {
      "cell_type": "code",
      "metadata": {
        "colab": {
          "base_uri": "https://localhost:8080/"
        },
        "id": "td5Potuhm_r1",
        "outputId": "7ba191b6-1366-44bf-d04b-8a223f17918e"
      },
      "source": [
        "# a[0:3]\\\n",
        "a[0]"
      ],
      "execution_count": 16,
      "outputs": [
        {
          "output_type": "execute_result",
          "data": {
            "text/plain": [
              "0"
            ]
          },
          "metadata": {},
          "execution_count": 16
        }
      ]
    },
    {
      "cell_type": "code",
      "metadata": {
        "colab": {
          "base_uri": "https://localhost:8080/"
        },
        "id": "PxaYBhgRnyge",
        "outputId": "1acccb53-b0f2-4924-cfd0-97840a6d4386"
      },
      "source": [
        "print(np.shape(a))\n",
        "print(np.ndim(a))\n",
        "print(np.size(a))\n",
        "print(a.dtype)"
      ],
      "execution_count": 24,
      "outputs": [
        {
          "output_type": "stream",
          "text": [
            "(5,)\n",
            "1\n",
            "5\n",
            "int16\n"
          ],
          "name": "stdout"
        }
      ]
    },
    {
      "cell_type": "code",
      "metadata": {
        "colab": {
          "base_uri": "https://localhost:8080/"
        },
        "id": "wb5OS-43n9D8",
        "outputId": "d42662bf-6c47-4466-aaf7-d849654a9816"
      },
      "source": [
        "array = np.array([[1,2,3],[2,3,4]], dtype=np.int32)\n",
        "print(np.shape(array))\n",
        "print(np.ndim(array))\n",
        "print(np.size(array))\n",
        "print(array.dtype)"
      ],
      "execution_count": 28,
      "outputs": [
        {
          "output_type": "stream",
          "text": [
            "(2, 3)\n",
            "2\n",
            "6\n",
            "int32\n"
          ],
          "name": "stdout"
        }
      ]
    },
    {
      "cell_type": "code",
      "metadata": {
        "colab": {
          "base_uri": "https://localhost:8080/"
        },
        "id": "0u3SUSvAsRlv",
        "outputId": "5181533b-05d8-4d92-c70e-d441409adb3c"
      },
      "source": [
        "array = np.array([range(i,i+3) for i in[1,4,7]],dtype = np.int32)\n",
        "print(array)"
      ],
      "execution_count": 29,
      "outputs": [
        {
          "output_type": "stream",
          "text": [
            "[[1 2 3]\n",
            " [4 5 6]\n",
            " [7 8 9]]\n"
          ],
          "name": "stdout"
        }
      ]
    },
    {
      "cell_type": "code",
      "metadata": {
        "colab": {
          "base_uri": "https://localhost:8080/"
        },
        "id": "9uKtQHuRtc1Q",
        "outputId": "5e6fe2af-ff87-4fc1-bde1-1f991974a798"
      },
      "source": [
        "array"
      ],
      "execution_count": 31,
      "outputs": [
        {
          "output_type": "execute_result",
          "data": {
            "text/plain": [
              "array([[1, 2, 3],\n",
              "       [4, 5, 6],\n",
              "       [7, 8, 9]], dtype=int32)"
            ]
          },
          "metadata": {},
          "execution_count": 31
        }
      ]
    },
    {
      "cell_type": "code",
      "metadata": {
        "colab": {
          "base_uri": "https://localhost:8080/"
        },
        "id": "fQ3LXxckthru",
        "outputId": "f661ca64-cc10-4607-eac2-add6069d9cea"
      },
      "source": [
        "array[0,:]\n",
        "print(array[:,2])"
      ],
      "execution_count": 35,
      "outputs": [
        {
          "output_type": "stream",
          "text": [
            "[3 6 9]\n"
          ],
          "name": "stdout"
        }
      ]
    },
    {
      "cell_type": "code",
      "metadata": {
        "colab": {
          "base_uri": "https://localhost:8080/"
        },
        "id": "4o_x4-WBuCyH",
        "outputId": "bf168a55-36ee-40b7-93a8-b8cb370f8d86"
      },
      "source": [
        "array[:,1:]"
      ],
      "execution_count": 39,
      "outputs": [
        {
          "output_type": "execute_result",
          "data": {
            "text/plain": [
              "array([[2, 3],\n",
              "       [5, 6],\n",
              "       [8, 9]], dtype=int32)"
            ]
          },
          "metadata": {},
          "execution_count": 39
        }
      ]
    },
    {
      "cell_type": "code",
      "metadata": {
        "colab": {
          "base_uri": "https://localhost:8080/"
        },
        "id": "DjMUeERfuzEh",
        "outputId": "d841cfb6-a5b7-489a-b7c9-71761b0a0656"
      },
      "source": [
        "# 행렬 만들기\n",
        "np.empty((2,3))\n",
        "np.eye(2,3)\n",
        "np.identity(2) # square matrix 정방행렬\n",
        "np.zeros((3,3))\n",
        "np.ones([3,5]) # tuple() list[]\n",
        "np.full(shape = (3,5), fill_value=5)\n",
        "np.full((5,4),3)"
      ],
      "execution_count": 50,
      "outputs": [
        {
          "output_type": "execute_result",
          "data": {
            "text/plain": [
              "array([[3, 3, 3, 3],\n",
              "       [3, 3, 3, 3],\n",
              "       [3, 3, 3, 3],\n",
              "       [3, 3, 3, 3],\n",
              "       [3, 3, 3, 3]])"
            ]
          },
          "metadata": {},
          "execution_count": 50
        }
      ]
    },
    {
      "cell_type": "code",
      "metadata": {
        "colab": {
          "base_uri": "https://localhost:8080/"
        },
        "id": "2LZcpx2Su0Hk",
        "outputId": "8fcafac6-952d-42b8-f121-79c0e7846666"
      },
      "source": [
        "np.array([[1,2],[3,5]])"
      ],
      "execution_count": 53,
      "outputs": [
        {
          "output_type": "execute_result",
          "data": {
            "text/plain": [
              "array([[1, 2],\n",
              "       [3, 5]])"
            ]
          },
          "metadata": {},
          "execution_count": 53
        }
      ]
    },
    {
      "cell_type": "code",
      "metadata": {
        "colab": {
          "base_uri": "https://localhost:8080/"
        },
        "id": "BecTR3Wnx9Pw",
        "outputId": "7d0713c6-06f8-495a-99f1-4ed5eae008dd"
      },
      "source": [
        "#  array manipulation\n",
        "\n",
        "np.arange(10)\n",
        "np.arange(1,12,2)\n",
        "arr_arange = np.arange(12)\n",
        "np.reshape(arr_arange,(-1,3))   #-1부터 시작하면 알아서 맞춰줌 열만 정해주면 됨\n",
        "# print(arr_arange)\n",
        "np.arange(12).reshape(-1,4)"
      ],
      "execution_count": 70,
      "outputs": [
        {
          "output_type": "execute_result",
          "data": {
            "text/plain": [
              "array([[ 0,  1,  2,  3],\n",
              "       [ 4,  5,  6,  7],\n",
              "       [ 8,  9, 10, 11]])"
            ]
          },
          "metadata": {},
          "execution_count": 70
        }
      ]
    },
    {
      "cell_type": "code",
      "metadata": {
        "colab": {
          "base_uri": "https://localhost:8080/"
        },
        "id": "doIj9vevzU3s",
        "outputId": "61e6ecf9-2ef2-42ea-ac4b-f9156fad4cb4"
      },
      "source": [
        "x = np.arange(1,7).reshape(-1,3)\n",
        "print(x)\n",
        "x_flat = list(x.flat)"
      ],
      "execution_count": 75,
      "outputs": [
        {
          "output_type": "stream",
          "text": [
            "[[1 2 3]\n",
            " [4 5 6]]\n"
          ],
          "name": "stdout"
        },
        {
          "output_type": "execute_result",
          "data": {
            "text/plain": [
              "[1, 2, 3, 4, 5, 6]"
            ]
          },
          "metadata": {},
          "execution_count": 75
        }
      ]
    },
    {
      "cell_type": "code",
      "metadata": {
        "colab": {
          "base_uri": "https://localhost:8080/"
        },
        "id": "760Sd8fnztdM",
        "outputId": "c12c0e8d-b7a0-4429-b2aa-dc27a8b3aa21"
      },
      "source": [
        "print(x)\n",
        "x.T # translporse"
      ],
      "execution_count": 78,
      "outputs": [
        {
          "output_type": "stream",
          "text": [
            "[[1 2 3]\n",
            " [4 5 6]]\n"
          ],
          "name": "stdout"
        },
        {
          "output_type": "execute_result",
          "data": {
            "text/plain": [
              "array([[1, 4],\n",
              "       [2, 5],\n",
              "       [3, 6]])"
            ]
          },
          "metadata": {},
          "execution_count": 78
        }
      ]
    },
    {
      "cell_type": "code",
      "metadata": {
        "colab": {
          "base_uri": "https://localhost:8080/"
        },
        "id": "WTWZZmvR0TCk",
        "outputId": "bfe9e346-ce30-4c60-9317-bb085a4d088b"
      },
      "source": [
        "x2d = np.array([[0],[1],[2]])\n",
        "x = np.array([[[0],[1],[2]]])\n",
        "print(x)\n",
        "print(x2d)\n",
        "print(np.shape(x2d), np.shape(x))\n",
        "print(x.squeeze()) # 차원 감소시키기\n",
        "print(x.squeeze(axis=0))\n",
        "print(x.squeeze(axis=0).shape) # dimension reduction\n",
        "print(x.squeeze(axis=2))\n",
        "print(x.squeeze(axis=2).shape) #괄호 세개 있으면 3차원"
      ],
      "execution_count": 100,
      "outputs": [
        {
          "output_type": "stream",
          "text": [
            "[[[0]\n",
            "  [1]\n",
            "  [2]]]\n",
            "[[0]\n",
            " [1]\n",
            " [2]]\n",
            "(3, 1) (1, 3, 1)\n",
            "[0 1 2]\n",
            "[[0]\n",
            " [1]\n",
            " [2]]\n",
            "(3, 1)\n",
            "[[0 1 2]]\n",
            "(1, 3)\n"
          ],
          "name": "stdout"
        }
      ]
    },
    {
      "cell_type": "code",
      "metadata": {
        "colab": {
          "base_uri": "https://localhost:8080/"
        },
        "id": "-id9sUm32I5y",
        "outputId": "315dacb0-99b3-4715-d07d-3dd23ee8a198"
      },
      "source": [
        "a = np.array(np.arange(3))\n",
        "b = np.array(np.arange(3,6))\n",
        "print(a)\n",
        "print(b)\n",
        "\n",
        "c = np.vstack([a,b])\n",
        "print(c)\n",
        "print(np.hstack((a,b)))\n",
        "print(np.column_stack((a,b)))"
      ],
      "execution_count": 110,
      "outputs": [
        {
          "output_type": "stream",
          "text": [
            "[0 1 2]\n",
            "[3 4 5]\n",
            "[[0 1 2]\n",
            " [3 4 5]]\n",
            "[0 1 2 3 4 5]\n",
            "[[0 3]\n",
            " [1 4]\n",
            " [2 5]]\n"
          ],
          "name": "stdout"
        }
      ]
    },
    {
      "cell_type": "code",
      "metadata": {
        "colab": {
          "base_uri": "https://localhost:8080/"
        },
        "id": "kW81QVGr7_6A",
        "outputId": "abe9d113-82db-4473-a7c3-62b05d71b86b"
      },
      "source": [
        "x= np.arange(12)+1\n",
        "\n",
        "mask = np.ones(len(x),dtype = bool)\n",
        "mask[[0,2,4]] = False\n",
        "print(mask)\n",
        "\n",
        "print(x)\n",
        "\n",
        "# 내가 원하는것만 뽑을때\n",
        "x[mask] #data selection에 많이 쓰이는 방식이다."
      ],
      "execution_count": 120,
      "outputs": [
        {
          "output_type": "stream",
          "text": [
            "[False  True False  True False  True  True  True  True  True  True  True]\n",
            "[ 1  2  3  4  5  6  7  8  9 10 11 12]\n"
          ],
          "name": "stdout"
        },
        {
          "output_type": "execute_result",
          "data": {
            "text/plain": [
              "array([ 2,  4,  6,  7,  8,  9, 10, 11, 12])"
            ]
          },
          "metadata": {},
          "execution_count": 120
        }
      ]
    },
    {
      "cell_type": "code",
      "metadata": {
        "colab": {
          "base_uri": "https://localhost:8080/"
        },
        "id": "PPRH79jU8QEi",
        "outputId": "602e90a2-f206-4e00-fd09-a10d2b850548"
      },
      "source": [
        "len(x)"
      ],
      "execution_count": 121,
      "outputs": [
        {
          "output_type": "execute_result",
          "data": {
            "text/plain": [
              "12"
            ]
          },
          "metadata": {},
          "execution_count": 121
        }
      ]
    },
    {
      "cell_type": "code",
      "metadata": {
        "colab": {
          "base_uri": "https://localhost:8080/"
        },
        "id": "w0RpglaM-CqH",
        "outputId": "8b273f20-4d84-4e7e-b061-b58af68d0e83"
      },
      "source": [
        "arr = np.array([[1,2,3,4],[5,6,7,8],[9,10,11,12]])\n",
        "print(arr)\n",
        "\n",
        "np.delete(arr,obj = 1, axis=0) # 0 행, 1열, 2 높이\n",
        "np.delete(arr, obj = np.s_[::3],axis=1)"
      ],
      "execution_count": 132,
      "outputs": [
        {
          "output_type": "stream",
          "text": [
            "[[ 1  2  3  4]\n",
            " [ 5  6  7  8]\n",
            " [ 9 10 11 12]]\n"
          ],
          "name": "stdout"
        },
        {
          "output_type": "execute_result",
          "data": {
            "text/plain": [
              "array([[ 2,  3],\n",
              "       [ 6,  7],\n",
              "       [10, 11]])"
            ]
          },
          "metadata": {},
          "execution_count": 132
        }
      ]
    },
    {
      "cell_type": "code",
      "metadata": {
        "colab": {
          "base_uri": "https://localhost:8080/"
        },
        "id": "ZfqQtUO4_UCA",
        "outputId": "f7c77c4a-cf89-4f71-b39d-f217d00a9542"
      },
      "source": [
        "a=np.array([[1,1],[2,2],[3,3]])\n",
        "print(a)\n",
        "a.shape\n",
        "np.insert(a,1,5) #행에 넣기\n",
        "np.insert(a,2,5, axis = 1) # 0 raw 1column"
      ],
      "execution_count": 141,
      "outputs": [
        {
          "output_type": "stream",
          "text": [
            "[[1 1]\n",
            " [2 2]\n",
            " [3 3]]\n"
          ],
          "name": "stdout"
        },
        {
          "output_type": "execute_result",
          "data": {
            "text/plain": [
              "array([[1, 1, 5],\n",
              "       [2, 2, 5],\n",
              "       [3, 3, 5]])"
            ]
          },
          "metadata": {},
          "execution_count": 141
        }
      ]
    },
    {
      "cell_type": "code",
      "metadata": {
        "colab": {
          "base_uri": "https://localhost:8080/"
        },
        "id": "8RRdLZlUABRT",
        "outputId": "e77891b9-a8a3-4155-e710-a18ab419a1f1"
      },
      "source": [
        "print(a)\n",
        "print(np.insert(a, 1, [2,4,6], axis = 1))\n",
        "np.insert(a, [1], [2,4,6], axis=1)"
      ],
      "execution_count": 150,
      "outputs": [
        {
          "output_type": "stream",
          "text": [
            "[[1 1]\n",
            " [2 2]\n",
            " [3 3]]\n",
            "[[1 2 1]\n",
            " [2 4 2]\n",
            " [3 6 3]]\n"
          ],
          "name": "stdout"
        },
        {
          "output_type": "execute_result",
          "data": {
            "text/plain": [
              "array([[1, 2, 4, 6, 1],\n",
              "       [2, 2, 4, 6, 2],\n",
              "       [3, 2, 4, 6, 3]])"
            ]
          },
          "metadata": {},
          "execution_count": 150
        }
      ]
    },
    {
      "cell_type": "code",
      "metadata": {
        "colab": {
          "base_uri": "https://localhost:8080/"
        },
        "id": "6cZqhRKTBBI9",
        "outputId": "f94e8ebc-6070-4c71-8f44-701217b4b898"
      },
      "source": [
        "print (a)\n",
        "\n",
        "a.flatten()\n",
        "np.insert(a,2,[5,6])"
      ],
      "execution_count": 156,
      "outputs": [
        {
          "output_type": "stream",
          "text": [
            "[[1 1]\n",
            " [2 2]\n",
            " [3 3]]\n"
          ],
          "name": "stdout"
        },
        {
          "output_type": "execute_result",
          "data": {
            "text/plain": [
              "array([1, 1, 5, 6, 2, 2, 3, 3])"
            ]
          },
          "metadata": {},
          "execution_count": 156
        }
      ]
    },
    {
      "cell_type": "code",
      "metadata": {
        "colab": {
          "base_uri": "https://localhost:8080/"
        },
        "id": "LJJKVKk_Bf8m",
        "outputId": "e0d2c6ab-05ec-490f-c3cd-9d93d0674db6"
      },
      "source": [
        "# append\n",
        "np.append([1,2,3], [[4,5,6],[7,8,9]])\n",
        "np.append([[1,2,3], [4,5,6]],[[7,8,9]],axis=0) # [[]]두개는 2차원>? axis =1 쓸때 2D array로롤\n"
      ],
      "execution_count": 161,
      "outputs": [
        {
          "output_type": "execute_result",
          "data": {
            "text/plain": [
              "array([[1, 2, 3],\n",
              "       [4, 5, 6],\n",
              "       [7, 8, 9]])"
            ]
          },
          "metadata": {},
          "execution_count": 161
        }
      ]
    },
    {
      "cell_type": "code",
      "metadata": {
        "colab": {
          "base_uri": "https://localhost:8080/"
        },
        "id": "3A2pSpaACUNT",
        "outputId": "1d4f4529-72c4-4323-f27f-06ff8e28ad73"
      },
      "source": [
        "np.unique([1,1,2,2,3,3])"
      ],
      "execution_count": 163,
      "outputs": [
        {
          "output_type": "execute_result",
          "data": {
            "text/plain": [
              "array([1, 2, 3])"
            ]
          },
          "metadata": {},
          "execution_count": 163
        }
      ]
    },
    {
      "cell_type": "code",
      "metadata": {
        "colab": {
          "base_uri": "https://localhost:8080/"
        },
        "id": "nyfpq1Z7CZKd",
        "outputId": "a2735f62-cdfc-44be-a402-ec583c4e4d06"
      },
      "source": [
        "a=np.array([[1,0,0],[1,0,0],[2,3,4]])\n",
        "print(a)\n",
        "np.unique(a, axis =1)"
      ],
      "execution_count": 168,
      "outputs": [
        {
          "output_type": "stream",
          "text": [
            "[[1 0 0]\n",
            " [1 0 0]\n",
            " [2 3 4]]\n"
          ],
          "name": "stdout"
        },
        {
          "output_type": "execute_result",
          "data": {
            "text/plain": [
              "array([[0, 0, 1],\n",
              "       [0, 0, 1],\n",
              "       [3, 4, 2]])"
            ]
          },
          "metadata": {},
          "execution_count": 168
        }
      ]
    },
    {
      "cell_type": "code",
      "metadata": {
        "colab": {
          "base_uri": "https://localhost:8080/"
        },
        "id": "glXhKe6SC8qx",
        "outputId": "26c88225-4338-4399-8437-413e34271767"
      },
      "source": [
        "a = np.array(['rose', 'rose','iris','iris','sunflower'])\n",
        "print(a)\n",
        "u, indices = np.unique(a, return_index=True)\n",
        "print(u)\n",
        "print(indices)"
      ],
      "execution_count": 177,
      "outputs": [
        {
          "output_type": "stream",
          "text": [
            "['rose' 'rose' 'iris' 'iris' 'sunflower']\n",
            "['iris' 'rose' 'sunflower']\n",
            "[2 0 4]\n"
          ],
          "name": "stdout"
        }
      ]
    },
    {
      "cell_type": "code",
      "metadata": {
        "colab": {
          "base_uri": "https://localhost:8080/"
        },
        "id": "VScGDffrVcyg",
        "outputId": "b294686f-caea-42f7-c1f3-93c660bc7150"
      },
      "source": [
        "A = np.arange(8).reshape(-1,4)\n",
        "print(A)\n",
        "\n",
        "np.flip(A)\n",
        "np.flip(A, axis = 0)\n",
        "np.flip(A, axis = 1)"
      ],
      "execution_count": 184,
      "outputs": [
        {
          "output_type": "stream",
          "text": [
            "[[0 1 2 3]\n",
            " [4 5 6 7]]\n"
          ],
          "name": "stdout"
        },
        {
          "output_type": "execute_result",
          "data": {
            "text/plain": [
              "array([[3, 2, 1, 0],\n",
              "       [7, 6, 5, 4]])"
            ]
          },
          "metadata": {},
          "execution_count": 184
        }
      ]
    },
    {
      "cell_type": "code",
      "metadata": {
        "colab": {
          "base_uri": "https://localhost:8080/"
        },
        "id": "4TPQ3z5HWdAx",
        "outputId": "21a95d0b-b9ac-4ae2-a1fe-1eac19a57b88"
      },
      "source": [
        "a=np.array([[1,4], [3,1]])\n",
        "print(a)\n",
        "\n",
        "np.sort(a,axis = 0)"
      ],
      "execution_count": 190,
      "outputs": [
        {
          "output_type": "stream",
          "text": [
            "[[1 4]\n",
            " [3 1]]\n"
          ],
          "name": "stdout"
        },
        {
          "output_type": "execute_result",
          "data": {
            "text/plain": [
              "array([[1, 1],\n",
              "       [3, 4]])"
            ]
          },
          "metadata": {},
          "execution_count": 190
        }
      ]
    },
    {
      "cell_type": "code",
      "metadata": {
        "colab": {
          "base_uri": "https://localhost:8080/"
        },
        "id": "fsf55MdwXJ2H",
        "outputId": "f00a029a-d981-47b6-fd8b-daa0d1df2a41"
      },
      "source": [
        "#  Random sampling\n",
        "np.random.rand(3,2)"
      ],
      "execution_count": 192,
      "outputs": [
        {
          "output_type": "execute_result",
          "data": {
            "text/plain": [
              "array([[0.69189363, 0.80680778],\n",
              "       [0.70949713, 0.18982778],\n",
              "       [0.29487096, 0.74742784]])"
            ]
          },
          "metadata": {},
          "execution_count": 192
        }
      ]
    },
    {
      "cell_type": "code",
      "metadata": {
        "colab": {
          "base_uri": "https://localhost:8080/"
        },
        "id": "X3ouKlfnaQdK",
        "outputId": "1d663fa6-1ebc-4fbc-9064-5b2ec0ae6b7c"
      },
      "source": [
        "np.random.randint(1, 10, (3,3))"
      ],
      "execution_count": 194,
      "outputs": [
        {
          "output_type": "execute_result",
          "data": {
            "text/plain": [
              "array([[4, 9, 7],\n",
              "       [4, 8, 7],\n",
              "       [5, 3, 6]])"
            ]
          },
          "metadata": {},
          "execution_count": 194
        }
      ]
    },
    {
      "cell_type": "code",
      "metadata": {
        "colab": {
          "base_uri": "https://localhost:8080/"
        },
        "id": "yuRurHSNaWfh",
        "outputId": "8b820fbb-6387-4fb8-b659-3725873641ca"
      },
      "source": [
        "np.random.randn(3,2) # 표준 정규분포 평균이 0이고 퍼짐의 정도가 1인 정규분포\n",
        "np.random.normal(loc = 100, scale = 10, size = 10)\n",
        "np.random.seed(830)\n",
        "np.random.normal(100,30,size = 3 ) # seed를 넣어서 랜덤값 고정"
      ],
      "execution_count": 205,
      "outputs": [
        {
          "output_type": "execute_result",
          "data": {
            "text/plain": [
              "array([114.32858157,  98.72723031, 107.38059832])"
            ]
          },
          "metadata": {},
          "execution_count": 205
        }
      ]
    },
    {
      "cell_type": "code",
      "metadata": {
        "colab": {
          "base_uri": "https://localhost:8080/"
        },
        "id": "xVXyXY2rdo6t",
        "outputId": "e6215019-5325-4921-c961-1ab86b00dc85"
      },
      "source": [
        "np.random.seed(830)\n",
        "arr = np.random.randint(10, size  = 5)\n",
        "arr\n"
      ],
      "execution_count": 212,
      "outputs": [
        {
          "output_type": "execute_result",
          "data": {
            "text/plain": [
              "array([3, 4, 3, 9, 3])"
            ]
          },
          "metadata": {},
          "execution_count": 212
        }
      ]
    },
    {
      "cell_type": "code",
      "metadata": {
        "colab": {
          "base_uri": "https://localhost:8080/"
        },
        "id": "R0E8jloNd3X8",
        "outputId": "64a23f7f-7823-4ae4-d26c-af066c8e2042"
      },
      "source": [
        "arr_arg = np.arange(10)\n",
        "print(arr_arg)\n",
        "arr_arg_shf = np.random.shuffle(arr_arg)\n",
        "print(arr_arg)"
      ],
      "execution_count": 224,
      "outputs": [
        {
          "output_type": "stream",
          "text": [
            "[0 1 2 3 4 5 6 7 8 9]\n",
            "[9 6 2 8 3 1 5 0 7 4]\n"
          ],
          "name": "stdout"
        }
      ]
    },
    {
      "cell_type": "code",
      "metadata": {
        "colab": {
          "base_uri": "https://localhost:8080/"
        },
        "id": "TwazUwrpe0DS",
        "outputId": "d517105c-5495-4ca3-cc88-e74c922c4727"
      },
      "source": [
        "# descriptive / summary statistics\n",
        "a = np.arange(4).reshape(-1,2)\n",
        "print(a)\n",
        "np.min(a, axis = 0)\n",
        "np.min(a, axis = 1)"
      ],
      "execution_count": 227,
      "outputs": [
        {
          "output_type": "stream",
          "text": [
            "[[0 1]\n",
            " [2 3]]\n"
          ],
          "name": "stdout"
        },
        {
          "output_type": "execute_result",
          "data": {
            "text/plain": [
              "array([0, 2])"
            ]
          },
          "metadata": {},
          "execution_count": 227
        }
      ]
    },
    {
      "cell_type": "code",
      "metadata": {
        "colab": {
          "base_uri": "https://localhost:8080/"
        },
        "id": "yizcZ9nsj0zw",
        "outputId": "80e8861c-a959-44b5-9a18-c887a16e9d63"
      },
      "source": [
        "print(a)\n",
        "np.max(a)\n",
        "np.max(a, axis=0) # axis = 0 column 열이다 ?????"
      ],
      "execution_count": 231,
      "outputs": [
        {
          "output_type": "stream",
          "text": [
            "[[0 1]\n",
            " [2 3]]\n"
          ],
          "name": "stdout"
        },
        {
          "output_type": "execute_result",
          "data": {
            "text/plain": [
              "array([2, 3])"
            ]
          },
          "metadata": {},
          "execution_count": 231
        }
      ]
    },
    {
      "cell_type": "code",
      "metadata": {
        "colab": {
          "base_uri": "https://localhost:8080/"
        },
        "id": "9jgzS6VVkHIj",
        "outputId": "1df47341-cb6b-4fcc-f89a-fee2aad3dc28"
      },
      "source": [
        "b= np.arange(5, dtype = float)\n",
        "b[2] = np.nan  # missing value 처리기법\n",
        "print(b)\n",
        "\n",
        "np.max(b)\n",
        "np.nanmax(b) # nan을 제외한 최대 값\n"
      ],
      "execution_count": 235,
      "outputs": [
        {
          "output_type": "stream",
          "text": [
            "[ 0.  1. nan  3.  4.]\n"
          ],
          "name": "stdout"
        },
        {
          "output_type": "execute_result",
          "data": {
            "text/plain": [
              "4.0"
            ]
          },
          "metadata": {},
          "execution_count": 235
        }
      ]
    },
    {
      "cell_type": "code",
      "metadata": {
        "colab": {
          "base_uri": "https://localhost:8080/"
        },
        "id": "fLaRPeU5lW7F",
        "outputId": "75a81496-2334-40c1-d265-3e3b8a949054"
      },
      "source": [
        "a = np.array([[10,7,4],[3,2,1]])\n",
        "print(a)\n",
        "\n",
        "np.quantile(a, 0.5) #median\n",
        "np.quantile(a, 0.5, axis=0)\n",
        "np.quantile(a, 0.5, axis=1)"
      ],
      "execution_count": 241,
      "outputs": [
        {
          "output_type": "stream",
          "text": [
            "[[10  7  4]\n",
            " [ 3  2  1]]\n"
          ],
          "name": "stdout"
        },
        {
          "output_type": "execute_result",
          "data": {
            "text/plain": [
              "array([7., 2.])"
            ]
          },
          "metadata": {},
          "execution_count": 241
        }
      ]
    },
    {
      "cell_type": "code",
      "metadata": {
        "colab": {
          "base_uri": "https://localhost:8080/"
        },
        "id": "K_qTeo3amgZE",
        "outputId": "580ac3fc-71e3-47b3-8966-8a79894b8a86"
      },
      "source": [
        "print(a)\n",
        "\n",
        "np.mean(a)\n",
        "np.median(a, axis = 0)\n",
        "np.median(a, axis = 1)"
      ],
      "execution_count": 245,
      "outputs": [
        {
          "output_type": "stream",
          "text": [
            "[[10  7  4]\n",
            " [ 3  2  1]]\n"
          ],
          "name": "stdout"
        },
        {
          "output_type": "execute_result",
          "data": {
            "text/plain": [
              "array([7., 2.])"
            ]
          },
          "metadata": {},
          "execution_count": 245
        }
      ]
    },
    {
      "cell_type": "code",
      "metadata": {
        "colab": {
          "base_uri": "https://localhost:8080/"
        },
        "id": "m1cM5J8CmvlK",
        "outputId": "c9652c00-bca3-4db9-bc01-c95842f05726"
      },
      "source": [
        "a = np.random.rand(3,3)\n",
        "print(a)\n",
        "\n",
        "np.mean(a, axis=0)\n",
        "np.median(a, axis = 0)\n",
        "np.var(a, axis = 0)   # 분산, 표준오차 개념 잡기 \n",
        "np.std(a, axis = 0)\n",
        "\n",
        "print(np.corrcoef(a)) # Column끼리의 상관관계를 나타내는 근접할수록 1에 근접\n",
        "print(np.cov(a))"
      ],
      "execution_count": 258,
      "outputs": [
        {
          "output_type": "stream",
          "text": [
            "[[0.50410642 0.36870367 0.0730111 ]\n",
            " [0.05366418 0.99758018 0.98312256]\n",
            " [0.5438358  0.64919199 0.35397832]]\n",
            "[[ 1.         -0.73276089  0.78260466]\n",
            " [-0.73276089  1.         -0.14984648]\n",
            " [ 0.78260466 -0.14984648  1.        ]]\n",
            "[[ 0.04860186 -0.08736983  0.02581227]\n",
            " [-0.08736983  0.29251322 -0.01212486]\n",
            " [ 0.02581227 -0.01212486  0.02238282]]\n"
          ],
          "name": "stdout"
        }
      ]
    },
    {
      "cell_type": "code",
      "metadata": {
        "colab": {
          "base_uri": "https://localhost:8080/"
        },
        "id": "c5HObP6MqsEP",
        "outputId": "e2271d44-81a6-4b52-c2af-f72769de4dc9"
      },
      "source": [
        "list1 = np.array([[1,2,3]])\n",
        "list2 = np.array([[4,5,5]])\n",
        "\n",
        "list1.shape\n",
        "\n",
        "np.vstack([list1,list2])\n",
        "\n",
        "np.concatenate([list1, list2], axis =0)\n"
      ],
      "execution_count": 266,
      "outputs": [
        {
          "output_type": "execute_result",
          "data": {
            "text/plain": [
              "array([[1, 2, 3],\n",
              "       [4, 5, 5]])"
            ]
          },
          "metadata": {},
          "execution_count": 266
        }
      ]
    },
    {
      "cell_type": "code",
      "metadata": {
        "colab": {
          "base_uri": "https://localhost:8080/"
        },
        "id": "aoZ1U8z1rfkb",
        "outputId": "19936c5e-ec68-4cf7-b0da-630b07e97fa9"
      },
      "source": [
        "x = np.random.random((10,3))\n",
        "print(x)\n",
        "m = np.mean(x,axis=0)\n",
        "print(m)\n",
        "\n",
        "center_x = x-m  #dimension 알아서 맞춰서 계산해줌 ~\n",
        "print(center_x)"
      ],
      "execution_count": 276,
      "outputs": [
        {
          "output_type": "stream",
          "text": [
            "[[0.2905743  0.45845661 0.29632976]\n",
            " [0.55371811 0.73234022 0.54295272]\n",
            " [0.15273924 0.76877084 0.07069582]\n",
            " [0.09200593 0.23806477 0.5879934 ]\n",
            " [0.68472606 0.69799531 0.09582799]\n",
            " [0.05251964 0.96041752 0.53397346]\n",
            " [0.16066313 0.11180047 0.42794225]\n",
            " [0.54810779 0.40705082 0.54859023]\n",
            " [0.19153743 0.36917695 0.38677031]\n",
            " [0.08727366 0.43339783 0.25946027]]\n",
            "[0.28138653 0.51774713 0.37505362]\n",
            "[[ 0.00918777 -0.05929053 -0.07872386]\n",
            " [ 0.27233158  0.21459309  0.1678991 ]\n",
            " [-0.12864729  0.2510237  -0.3043578 ]\n",
            " [-0.1893806  -0.27968237  0.21293978]\n",
            " [ 0.40333953  0.18024818 -0.27922563]\n",
            " [-0.22886689  0.44267039  0.15891984]\n",
            " [-0.1207234  -0.40594667  0.05288862]\n",
            " [ 0.26672126 -0.11069632  0.17353661]\n",
            " [-0.0898491  -0.14857018  0.01171669]\n",
            " [-0.19411287 -0.0843493  -0.11559335]]\n"
          ],
          "name": "stdout"
        }
      ]
    },
    {
      "cell_type": "code",
      "metadata": {
        "colab": {
          "base_uri": "https://localhost:8080/"
        },
        "id": "kEiGFlYdtEvD",
        "outputId": "4b2dea99-f953-436d-fcdf-de3936bf22f6"
      },
      "source": [
        "center_x > 0.2\n",
        "(center_x>0.2)| (center_x <0.200001)\n",
        "\n",
        "arr_mask = center_x>0.1\n",
        "print(arr_mask)"
      ],
      "execution_count": 284,
      "outputs": [
        {
          "output_type": "stream",
          "text": [
            "[[False False False]\n",
            " [ True  True  True]\n",
            " [False  True False]\n",
            " [False False  True]\n",
            " [ True  True False]\n",
            " [False  True  True]\n",
            " [False False False]\n",
            " [ True False  True]\n",
            " [False False False]\n",
            " [False False False]]\n"
          ],
          "name": "stdout"
        }
      ]
    }
  ]
}