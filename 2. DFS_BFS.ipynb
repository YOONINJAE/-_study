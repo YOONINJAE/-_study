{
  "nbformat": 4,
  "nbformat_minor": 0,
  "metadata": {
    "colab": {
      "name": "DFS/BFS.ipynb",
      "provenance": [],
      "collapsed_sections": [],
      "authorship_tag": "ABX9TyPOWFgTxUIjqdVd4fT6n+8u",
      "include_colab_link": true
    },
    "kernelspec": {
      "name": "python3",
      "display_name": "Python 3"
    },
    "language_info": {
      "name": "python"
    }
  },
  "cells": [
    {
      "cell_type": "markdown",
      "metadata": {
        "id": "view-in-github",
        "colab_type": "text"
      },
      "source": [
        "<a href=\"https://colab.research.google.com/github/YOONINJAE/-_study/blob/master/2.%20DFS_BFS.ipynb\" target=\"_parent\"><img src=\"https://colab.research.google.com/assets/colab-badge.svg\" alt=\"Open In Colab\"/></a>"
      ]
    },
    {
      "cell_type": "code",
      "metadata": {
        "colab": {
          "base_uri": "https://localhost:8080/"
        },
        "id": "VvVswRrFUO-w",
        "outputId": "3e858960-659a-4103-c92e-d66807d5d3cd"
      },
      "source": [
        "#스택 자료구조 먼저들어온 데이터가 나가는 형식 선입후출!\n",
        "#박스 쌓기예시\n",
        "stack = []\n",
        "\n",
        "#삽입 5 - 삽입2 - 삽입 3 - 삽입 7 - 삭제() - - 삽입 1 - 삽입 4 - 삭제()\n",
        "stack.append(5)\n",
        "stack.append(2)\n",
        "stack.append(3)\n",
        "stack.append(7)\n",
        "stack.pop()\n",
        "stack.append(1)\n",
        "stack.append(4)\n",
        "stack.pop()\n",
        "\n",
        "print(stack[::-1])"
      ],
      "execution_count": null,
      "outputs": [
        {
          "output_type": "stream",
          "name": "stdout",
          "text": [
            "[1, 3, 2, 5]\n"
          ]
        }
      ]
    },
    {
      "cell_type": "code",
      "metadata": {
        "colab": {
          "base_uri": "https://localhost:8080/"
        },
        "id": "Pz-3edKCWpjm",
        "outputId": "6a414a6f-8f18-4c37-d34c-eb5f68d63908"
      },
      "source": [
        "#큐 자료구조 선입선출 덱 라이브러리가 시간효율성이 리스트보다 더 높다.\n",
        "from collections import deque\n",
        "\n",
        "# 큐(Queue) 구현을 위해 deque 라이브러리 사용\n",
        "queue = deque()\n",
        "\n",
        "#삽입 5 - 삽입2 - 삽입 3 - 삽입 7 - 삭제() - - 삽입 1 - 삽입 4 - 삭제()\n",
        "queue.append(5)\n",
        "queue.append(2)\n",
        "queue.append(3)\n",
        "queue.append(7)\n",
        "queue.popleft()\n",
        "queue.append(1)\n",
        "queue.append(4)\n",
        "queue.popleft()\n",
        "\n",
        "print(queue)\n",
        "queue.reverse()\n",
        "print(queue)"
      ],
      "execution_count": null,
      "outputs": [
        {
          "output_type": "stream",
          "name": "stdout",
          "text": [
            "deque([3, 7, 1, 4])\n",
            "deque([4, 1, 7, 3])\n"
          ]
        }
      ]
    },
    {
      "cell_type": "code",
      "metadata": {
        "colab": {
          "base_uri": "https://localhost:8080/"
        },
        "id": "Xl4Pt9pidgFo",
        "outputId": "c6fce229-64e6-4464-bc6f-6cfaa30c4676"
      },
      "source": [
        "#재귀함수(rcursive function) - 자기 자신을 다시 호출하는 함수\n",
        "#DFS 쓸때 꼭 쓰는것\n",
        "#문제 풀이에서 사용할 때는 재귀 함수의 종료 조건을 반드시 명시해야 합니다.\n",
        "# stack에 데이터를 넣었다가 빼는것처럼 선입 후출\n",
        "def recursive_function(i):\n",
        "  # 100번째 호출을 했을 때 종료되도록 조건 명시\n",
        "  if i==5:\n",
        "    return\n",
        "  print(i,'번째 재귀함수에서', i+1, '번째 재귀함수를 호출합니다.')\n",
        "  recursive_function(i+1)\n",
        "  print(i,'번째 재귀함수를 종료합니다.')\n",
        "\n",
        "recursive_function(1)"
      ],
      "execution_count": null,
      "outputs": [
        {
          "output_type": "stream",
          "name": "stdout",
          "text": [
            "1 번째 재귀함수에서 2 번째 재귀함수를 호출합니다.\n",
            "2 번째 재귀함수에서 3 번째 재귀함수를 호출합니다.\n",
            "3 번째 재귀함수에서 4 번째 재귀함수를 호출합니다.\n",
            "4 번째 재귀함수에서 5 번째 재귀함수를 호출합니다.\n",
            "4 번째 재귀함수를 종료합니다.\n",
            "3 번째 재귀함수를 종료합니다.\n",
            "2 번째 재귀함수를 종료합니다.\n",
            "1 번째 재귀함수를 종료합니다.\n"
          ]
        }
      ]
    },
    {
      "cell_type": "code",
      "metadata": {
        "colab": {
          "base_uri": "https://localhost:8080/"
        },
        "id": "-9lOIFyQe5E4",
        "outputId": "9436f35b-f5a6-4da3-c25e-8324b7614221"
      },
      "source": [
        "#팩토리얼 구현 예제\n",
        "def factorial_itractive(n):\n",
        "  result = 1\n",
        "  # 1부터 n까지 수를 차례대로 곱하기\n",
        "  for i in range(1,n+1):\n",
        "    result *=i\n",
        "  return result\n",
        "\n",
        "#재귀적으로 구현한 n!\n",
        "def factorial_recrusive(n):\n",
        "  if n<=1: # n이 1이하인 경우 1을 반환\n",
        "      return 1\n",
        "  # n! = n*(n-1)!를 그대로 코드로 작성하기\n",
        "  return n * factorial_recrusive(n-1)\n",
        "\n",
        "print(factorial_itractive(5))\n",
        "print(factorial_recrusive(5))"
      ],
      "execution_count": null,
      "outputs": [
        {
          "output_type": "stream",
          "name": "stdout",
          "text": [
            "120\n",
            "120\n"
          ]
        }
      ]
    },
    {
      "cell_type": "code",
      "metadata": {
        "colab": {
          "base_uri": "https://localhost:8080/"
        },
        "id": "dHjWOfwM3V7D",
        "outputId": "9f8f5195-18a7-430c-b752-778413d164f9"
      },
      "source": [
        "#유클리드 호제법 - 최대공약수 계산\n",
        "#재귀 함수로 작성 가능\n",
        "# 예시 : GCD(192,162)\n",
        "def gcd(a,b):\n",
        "  if a % b ==0 :\n",
        "    return b\n",
        "  else :\n",
        "    return (gcd(b,a%b))\n",
        "\n",
        "print(gcd(192,162))\n",
        "#재귀 함수를 잘 활용하면 복잡한 알고리즘을 간결하게 작성가능\n",
        "# 단 다른 사람이 이해하기 어려울 수 있음\n",
        "#모든 재귀함수는 반복문으로 구현이 가능\n",
        "# 컴퓨터가 함수를 연속적으로 호출하면 컴퓨터 메모리 내부의 스택 프레임에 쌓입니다.\n",
        "#그래서 스택을 사용해야 할 때 구현상 스택 라이브러리 대신에 재귀 함수를 이용하는 경우가 많습니다."
      ],
      "execution_count": null,
      "outputs": [
        {
          "output_type": "stream",
          "name": "stdout",
          "text": [
            "6\n"
          ]
        }
      ]
    },
    {
      "cell_type": "code",
      "metadata": {
        "id": "AD43fiPPFA9m",
        "colab": {
          "base_uri": "https://localhost:8080/"
        },
        "outputId": "9cb5f257-6440-442e-bbe3-df7e501f5460"
      },
      "source": [
        "#DFS (Detph - First - Search) 깊이 우선 탐색\n",
        "#DFS는 스택 잘구 or 재귀 함수를 이용하며, 구체적인 동작은 다음과 같다.\n",
        "# 1. 탐색 시작 노드를 스택에 삽입하고 방문 처리를 한다.\n",
        "# 2. 스택의 최상단 노드에 방문하지 않은 노드가 하나라도 있으면 그 노드를 스택에 넣고 방문처리한다.\n",
        "#  방문하지 않은 인접노드가 없으면 스택에서 최상단 노드를 꺼낸다.\n",
        "# 3. 더 이상 2번의 과정을 수행할 수 없을 때까지 반복한다.\n",
        "# 탐색 순서 1 2 7 6 8 3 4 5\n",
        "graph = [ # 2차원 리스트\n",
        "    [],\n",
        "    [2,3,8],\n",
        "    [1,7],\n",
        "    [1,4,5],\n",
        "    [3,5],\n",
        "    [3,4],\n",
        "    [7],\n",
        "    [2,6,8],\n",
        "    [1,7]\n",
        "]\n",
        "#각 노드가 방문된 정보를 표현 index 0 은 사용하지 않기  위해서 9개로함\n",
        "#노드번호를 직관적으로 사용가능\n",
        "visited = [False]*9\n",
        "\n",
        "#DFS 메서드 정의\n",
        "def dfs(graph, v, visited):\n",
        "  # 현재 노드를 방문 처리\n",
        "  visited[v] = True\n",
        "  print(v, end = ' ')\n",
        "  # 현재 노드와 연결된 다른 노드를 재귀적으로 방문\n",
        "  for i in graph[v]:\n",
        "    if not visited[i]:\n",
        "      dfs(graph, i ,visited)\n",
        "\n",
        "dfs(graph,1,visited)"
      ],
      "execution_count": null,
      "outputs": [
        {
          "output_type": "stream",
          "name": "stdout",
          "text": [
            "1 2 7 6 8 3 4 5 "
          ]
        }
      ]
    },
    {
      "cell_type": "code",
      "metadata": {
        "colab": {
          "base_uri": "https://localhost:8080/",
          "height": 241
        },
        "id": "i3UIZz6jUKIi",
        "outputId": "65924d12-e5e2-45fe-fa9c-daadf0d64fb7"
      },
      "source": [
        "# BFS (Breadth-First Search) 너비 우선 탐색, 가까운 노드부터 우선적으로 탐색하는 알고리즘\n",
        "# 큐 자료구조를 이용하며, 구체적인 동작은 다음과 같다.\n",
        "# 1. 탐색 시작 노드를 큐에 삽입하고 방문 처리\n",
        "# 2. 큐에서 노드를 꺼낸 뒤에 해당 노드의 인접 노드 중에서 방문하지 않은 노드를 모두 큐에 삽입하고 방문처리\n",
        "# 3. 더 이상 2버느이 과정을 수행할 수 없을 때까지 반복\n",
        "#최단 경로 문제에 사용 됨\n",
        "# 탐색 순서 1 2 3 8 7 4 5 6\n",
        "from collections import deque\n",
        "\n",
        "# BFS 메서드 정의\n",
        "def bfs(graph, start, visited):\n",
        "  # 큐(queue) 구현을 위해 deque 라이브러리 사용\n",
        "  queue = deque([start])\n",
        "  # 현재 노드를 방문 처리\n",
        "  visited[start] = True\n",
        "  # 큐가 빌 때까지 반복\n",
        "  while queue:\n",
        "    # 큐에서 하나의 원소를 뽑아 출력하기\n",
        "    v = queue.popleft()\n",
        "    print(v, end = ' ')\n",
        "    # 아직 방문하지 않은 원소들을 큐에- 삽입\n",
        "    for i in graph[v]:\n",
        "      if not visited[v]:\n",
        "        queue.append(i)\n",
        "        visited[i] = True\n",
        "graph = [\n",
        "    [],\n",
        "    [2,3,8],\n",
        "    [1,7],\n",
        "    [1,4,5],\n",
        "    [3,5],\n",
        "    [3,4],\n",
        "    [7],\n",
        "    [2,6,8]\n",
        "    [1,7]\n",
        "]\n",
        "# 각 노드가 방문된 정보를 표현(1차원 리스트)\n",
        "visited = False*9\n",
        "\n",
        "# 저으이된 BFS 함수 호출\n",
        "bfs(graph, 1, visited)"
      ],
      "execution_count": null,
      "outputs": [
        {
          "output_type": "error",
          "ename": "TypeError",
          "evalue": "ignored",
          "traceback": [
            "\u001b[0;31m---------------------------------------------------------------------------\u001b[0m",
            "\u001b[0;31mTypeError\u001b[0m                                 Traceback (most recent call last)",
            "\u001b[0;32m<ipython-input-9-2b80bdd858f5>\u001b[0m in \u001b[0;36m<module>\u001b[0;34m()\u001b[0m\n\u001b[1;32m     28\u001b[0m     \u001b[0;34m[\u001b[0m\u001b[0;36m2\u001b[0m\u001b[0;34m,\u001b[0m\u001b[0;36m3\u001b[0m\u001b[0;34m,\u001b[0m\u001b[0;36m8\u001b[0m\u001b[0;34m]\u001b[0m\u001b[0;34m,\u001b[0m\u001b[0;34m\u001b[0m\u001b[0;34m\u001b[0m\u001b[0m\n\u001b[1;32m     29\u001b[0m     \u001b[0;34m[\u001b[0m\u001b[0;36m1\u001b[0m\u001b[0;34m,\u001b[0m\u001b[0;36m7\u001b[0m\u001b[0;34m]\u001b[0m\u001b[0;34m\u001b[0m\u001b[0;34m\u001b[0m\u001b[0m\n\u001b[0;32m---> 30\u001b[0;31m     \u001b[0;34m[\u001b[0m\u001b[0;36m1\u001b[0m\u001b[0;34m,\u001b[0m\u001b[0;36m4\u001b[0m\u001b[0;34m,\u001b[0m\u001b[0;36m5\u001b[0m\u001b[0;34m]\u001b[0m\u001b[0;34m,\u001b[0m\u001b[0;34m\u001b[0m\u001b[0;34m\u001b[0m\u001b[0m\n\u001b[0m\u001b[1;32m     31\u001b[0m     \u001b[0;34m[\u001b[0m\u001b[0;36m3\u001b[0m\u001b[0;34m,\u001b[0m\u001b[0;36m5\u001b[0m\u001b[0;34m]\u001b[0m\u001b[0;34m,\u001b[0m\u001b[0;34m\u001b[0m\u001b[0;34m\u001b[0m\u001b[0m\n\u001b[1;32m     32\u001b[0m     \u001b[0;34m[\u001b[0m\u001b[0;36m3\u001b[0m\u001b[0;34m,\u001b[0m\u001b[0;36m4\u001b[0m\u001b[0;34m]\u001b[0m\u001b[0;34m,\u001b[0m\u001b[0;34m\u001b[0m\u001b[0;34m\u001b[0m\u001b[0m\n",
            "\u001b[0;31mTypeError\u001b[0m: list indices must be integers or slices, not tuple"
          ]
        }
      ]
    },
    {
      "cell_type": "code",
      "metadata": {
        "colab": {
          "base_uri": "https://localhost:8080/"
        },
        "id": "lC_Y7Jihxb50",
        "outputId": "aeb26605-2878-4e62-947d-a59f6ea377be"
      },
      "source": [
        "def f(x):\n",
        "  return x*x\n",
        "\n",
        "x= [1,2,3,4,5]\n",
        "print(list(map(f,x)))\n",
        "\n"
      ],
      "execution_count": null,
      "outputs": [
        {
          "output_type": "stream",
          "name": "stdout",
          "text": [
            "[1, 4, 9, 16, 25]\n"
          ]
        }
      ]
    },
    {
      "cell_type": "code",
      "metadata": {
        "colab": {
          "base_uri": "https://localhost:8080/"
        },
        "id": "VHsoMZDezGCS",
        "outputId": "4c64fc08-da8f-42c8-ecb5-98639df593b8"
      },
      "source": [
        "# 음료수 얼려 먹기 문제\n",
        "def dfs(x,y):\n",
        "  if x<=-1 or x>=n or y<=-1 or y>=m:\n",
        "    return False\n",
        "  # 현재 노드를 방문하지 않았다면\n",
        "  if graph[x][y] == 0:\n",
        "    graph[x][y] = 1\n",
        "    dfs(x-1,y)\n",
        "    dfs(x,y-1)\n",
        "    dfs(x+1,y)\n",
        "    dfs(x,y+1)\n",
        "    return True\n",
        "  return False\n",
        "\n",
        "n,m = map(int, input().split())\n",
        "\n",
        "graph = []\n",
        "for i in range(n):\n",
        "  graph.append(list(map(int,input())))\n",
        "\n",
        "result = 0\n",
        "for i in range(n):\n",
        "   for j in range(m):\n",
        "    if dfs(i,j)==True:\n",
        "      result+=1\n",
        "print(result)"
      ],
      "execution_count": null,
      "outputs": [
        {
          "output_type": "stream",
          "name": "stdout",
          "text": [
            "2 3\n",
            "101\n",
            "010\n",
            "3\n"
          ]
        }
      ]
    },
    {
      "cell_type": "code",
      "metadata": {
        "colab": {
          "base_uri": "https://localhost:8080/",
          "height": 259
        },
        "id": "5fq2SFUeZNKn",
        "outputId": "c2bffb13-a501-46ff-dacb-9c3d0fea3a78"
      },
      "source": [
        "# 미로탈출 노드 갯수로 거리를 파악할수 있어야함\n",
        "# 0인 곳을 피해서 1로만 가야함 BFS가 적당할듯 최단거리 탐색\n",
        "# 3X3미로가 있다고 가정 - 새로운 노드 갈때마다 이전까지 왔던 거리 데이터 필요\n",
        "from collections import deque\n",
        "\n",
        "# n m 을 공백을 기준으로 구분하여 입력 받기\n",
        "n,m = map(int,input().split())\n",
        "# 2차원 리스트의 맵 정보 입력받기\n",
        "graph = []\n",
        "for i in range(n):\n",
        "  graph.append(map(int,input().split()))\n",
        "\n",
        "\n",
        "\n",
        "# def bfs(x,y):\n",
        "  "
      ],
      "execution_count": null,
      "outputs": [
        {
          "name": "stdout",
          "output_type": "stream",
          "text": [
            "12\n"
          ]
        },
        {
          "output_type": "error",
          "ename": "ValueError",
          "evalue": "ignored",
          "traceback": [
            "\u001b[0;31m---------------------------------------------------------------------------\u001b[0m",
            "\u001b[0;31mValueError\u001b[0m                                Traceback (most recent call last)",
            "\u001b[0;32m<ipython-input-1-ab679c648c25>\u001b[0m in \u001b[0;36m<module>\u001b[0;34m()\u001b[0m\n\u001b[1;32m      5\u001b[0m \u001b[0;34m\u001b[0m\u001b[0m\n\u001b[1;32m      6\u001b[0m \u001b[0;31m# n m 을 공백을 기준으로 구분하여 입력 받기\u001b[0m\u001b[0;34m\u001b[0m\u001b[0;34m\u001b[0m\u001b[0;34m\u001b[0m\u001b[0m\n\u001b[0;32m----> 7\u001b[0;31m \u001b[0mn\u001b[0m\u001b[0;34m,\u001b[0m\u001b[0mm\u001b[0m \u001b[0;34m=\u001b[0m \u001b[0mmap\u001b[0m\u001b[0;34m(\u001b[0m\u001b[0mint\u001b[0m\u001b[0;34m,\u001b[0m\u001b[0minput\u001b[0m\u001b[0;34m(\u001b[0m\u001b[0;34m)\u001b[0m\u001b[0;34m.\u001b[0m\u001b[0msplit\u001b[0m\u001b[0;34m(\u001b[0m\u001b[0;34m)\u001b[0m\u001b[0;34m)\u001b[0m\u001b[0;34m\u001b[0m\u001b[0;34m\u001b[0m\u001b[0m\n\u001b[0m\u001b[1;32m      8\u001b[0m \u001b[0;31m# 2차원 리스트의 맵 정보 입력받기\u001b[0m\u001b[0;34m\u001b[0m\u001b[0;34m\u001b[0m\u001b[0;34m\u001b[0m\u001b[0m\n\u001b[1;32m      9\u001b[0m \u001b[0mgraph\u001b[0m \u001b[0;34m=\u001b[0m \u001b[0;34m[\u001b[0m\u001b[0;34m]\u001b[0m\u001b[0;34m\u001b[0m\u001b[0;34m\u001b[0m\u001b[0m\n",
            "\u001b[0;31mValueError\u001b[0m: not enough values to unpack (expected 2, got 1)"
          ]
        }
      ]
    },
    {
      "cell_type": "code",
      "metadata": {
        "colab": {
          "base_uri": "https://localhost:8080/"
        },
        "id": "B-8dhO0t1dkO",
        "outputId": "2f73d054-5392-4b69-b9f1-7c7589e2366e"
      },
      "source": [
        "list2 = [1,2,3]\n",
        "print(list(filter(lambda x: x%2==0, list2)))\n",
        "print(list(map(lambda x: x**2, list2)))"
      ],
      "execution_count": null,
      "outputs": [
        {
          "output_type": "stream",
          "name": "stdout",
          "text": [
            "[2]\n",
            "[1, 4, 9]\n"
          ]
        }
      ]
    }
  ]
}