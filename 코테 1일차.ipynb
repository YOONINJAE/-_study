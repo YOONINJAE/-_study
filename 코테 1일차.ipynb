{
  "nbformat": 4,
  "nbformat_minor": 0,
  "metadata": {
    "colab": {
      "name": "Untitled3.ipynb",
      "provenance": [],
      "authorship_tag": "ABX9TyPgGarddk53oSEWIKUkqAOa",
      "include_colab_link": true
    },
    "kernelspec": {
      "name": "python3",
      "display_name": "Python 3"
    },
    "language_info": {
      "name": "python"
    }
  },
  "cells": [
    {
      "cell_type": "markdown",
      "metadata": {
        "id": "view-in-github",
        "colab_type": "text"
      },
      "source": [
        "<a href=\"https://colab.research.google.com/github/YOONINJAE/-_study/blob/master/%EC%BD%94%ED%85%8C%201%EC%9D%BC%EC%B0%A8.ipynb\" target=\"_parent\"><img src=\"https://colab.research.google.com/assets/colab-badge.svg\" alt=\"Open In Colab\"/></a>"
      ]
    },
    {
      "cell_type": "code",
      "metadata": {
        "colab": {
          "base_uri": "https://localhost:8080/"
        },
        "id": "XG68GpxJkFX6",
        "outputId": "1f6d6652-5d87-4fdd-d02f-b38fdd50d157"
      },
      "source": [
        "a,b = input().split(',')\n",
        "print(int(a)+int(b))"
      ],
      "execution_count": 20,
      "outputs": [
        {
          "output_type": "stream",
          "name": "stdout",
          "text": [
            "1,2\n",
            "3\n"
          ]
        }
      ]
    },
    {
      "cell_type": "code",
      "metadata": {
        "colab": {
          "base_uri": "https://localhost:8080/"
        },
        "id": "J0zHCcy8nmtp",
        "outputId": "4e6eb598-dcf5-4b5e-d23c-b205e3e5c8ca"
      },
      "source": [
        "a,b = input().split(' ')\n",
        "print(int(a)+int(b))\n",
        "print(int(a)-int(b))\n",
        "print(int(a)*int(b))\n",
        "print(int(a)/int(b))\n",
        "print(int(a)%int(b))"
      ],
      "execution_count": 24,
      "outputs": [
        {
          "output_type": "stream",
          "name": "stdout",
          "text": [
            "7 3\n",
            "10\n",
            "4\n",
            "21\n",
            "2.3333333333333335\n",
            "1\n"
          ]
        }
      ]
    },
    {
      "cell_type": "code",
      "metadata": {
        "colab": {
          "base_uri": "https://localhost:8080/"
        },
        "id": "oU8jEPKKlwZr",
        "outputId": "cd81ec14-8058-4996-ccc9-64c0292ca941"
      },
      "source": [
        "arr = [int(x) for x in input().split(',')]\n",
        "A,B,C = [i for i in arr]\n",
        "print((A+B)%C)\n",
        "print(((A%B)+(B%C))%C)\n",
        "print((A*B)%C)\n",
        "print(((A%C)*(B%C))%C)"
      ],
      "execution_count": 55,
      "outputs": [
        {
          "output_type": "stream",
          "name": "stdout",
          "text": [
            "4,5,2\n",
            "1\n",
            "1\n",
            "0\n",
            "0\n"
          ]
        }
      ]
    },
    {
      "cell_type": "code",
      "metadata": {
        "colab": {
          "base_uri": "https://localhost:8080/"
        },
        "id": "V3SArsBJtABJ",
        "outputId": "09ef53ee-386a-4700-ff64-1d2a9b09f520"
      },
      "source": [
        "#a,b = [int(x) for x in input().split('x')]\n",
        "a,b = 472, 385\n",
        "one = a*(b%10)\n",
        "ten = a*int(b%100/10)\n",
        "hund = a*int(b/100)\n",
        "print(one+10*ten+100*hund)"
      ],
      "execution_count": 79,
      "outputs": [
        {
          "output_type": "stream",
          "name": "stdout",
          "text": [
            "181720\n"
          ]
        }
      ]
    },
    {
      "cell_type": "code",
      "metadata": {
        "id": "hW3vlUPYxN_9",
        "outputId": "80ce8401-21b0-44ea-ad81-b40a3620e552",
        "colab": {
          "base_uri": "https://localhost:8080/"
        }
      },
      "source": [
        "#arr = [int(x) for x in input().split(',')]\n",
        "a,b =3,3\n",
        "if(a>b): print('>')\n",
        "elif (a<b): print('<')\n",
        "elif (a==b): print('=')"
      ],
      "execution_count": 89,
      "outputs": [
        {
          "output_type": "stream",
          "name": "stdout",
          "text": [
            "=\n"
          ]
        }
      ]
    },
    {
      "cell_type": "code",
      "metadata": {
        "id": "tYQm6DvjyYD3",
        "outputId": "81bc2122-21a5-46b0-fdfa-462ac84054d7",
        "colab": {
          "base_uri": "https://localhost:8080/"
        }
      },
      "source": [
        "# arr = [int(x) for x in input().split(',')]\n",
        "score=87\n",
        "if (score>=90 and score<=100): print('A')\n",
        "elif (score>=80 & score<=89): print('B')"
      ],
      "execution_count": 97,
      "outputs": [
        {
          "output_type": "stream",
          "name": "stdout",
          "text": [
            "B\n"
          ]
        }
      ]
    },
    {
      "cell_type": "code",
      "metadata": {
        "id": "AvmyhWrYzz50",
        "outputId": "b8bbe495-3637-423b-948d-24d77cd62572",
        "colab": {
          "base_uri": "https://localhost:8080/"
        }
      },
      "source": [
        "year = 2004\n",
        "if(year%4 ==0 and year%100 !=0): print('1')\n",
        "elif(year%400==0): print('1')\n",
        "else : print('0')"
      ],
      "execution_count": 107,
      "outputs": [
        {
          "output_type": "stream",
          "name": "stdout",
          "text": [
            "1\n"
          ]
        }
      ]
    },
    {
      "cell_type": "code",
      "metadata": {
        "id": "0KUX23R30xo9",
        "outputId": "6ae10571-2e6e-407a-cf45-a45d52709406",
        "colab": {
          "base_uri": "https://localhost:8080/"
        }
      },
      "source": [
        "# x,y = input().split(',')\n",
        "x,y = 12, -6\n",
        "if  (x>0 and y>0): print(1)\n",
        "elif (x<0 and y>0): print(2)\n",
        "elif (x<0 and y<0): print(3)\n",
        "elif (x>0 and y<0): print(4)"
      ],
      "execution_count": 117,
      "outputs": [
        {
          "output_type": "stream",
          "name": "stdout",
          "text": [
            "4\n"
          ]
        }
      ]
    },
    {
      "cell_type": "code",
      "metadata": {
        "id": "gxZ9mO3Q14om",
        "outputId": "d096d69c-7356-44fe-d849-88a39d07b4d9",
        "colab": {
          "base_uri": "https://localhost:8080/"
        }
      },
      "source": [
        "N = 2\n",
        "for x in range(1,10):\n",
        " print(x*N)"
      ],
      "execution_count": 124,
      "outputs": [
        {
          "output_type": "stream",
          "name": "stdout",
          "text": [
            "2\n",
            "4\n",
            "6\n",
            "8\n",
            "10\n",
            "12\n",
            "14\n",
            "16\n",
            "18\n"
          ]
        }
      ]
    },
    {
      "cell_type": "code",
      "metadata": {
        "id": "OZ4Lu7qF2ykW",
        "outputId": "0e961ea3-46f6-416d-af17-86815f3aca8e",
        "colab": {
          "base_uri": "https://localhost:8080/"
        }
      },
      "source": [
        "N = 5\n",
        "for x in range(N):\n",
        "  arr = [int(x) for x in input().split(',')]\n",
        "  print(arr[0]+arr[1])\n",
        "# arr = [int(x) for x in input().split(',')]\n",
        ","
      ],
      "execution_count": 130,
      "outputs": [
        {
          "output_type": "stream",
          "name": "stdout",
          "text": [
            "1,1\n",
            "2\n",
            "1,2\n",
            "3\n",
            "3,4\n",
            "7\n",
            "8,9\n",
            "17\n",
            "5,2\n",
            "7\n"
          ]
        }
      ]
    },
    {
      "cell_type": "code",
      "metadata": {
        "id": "BoOaoU4S4BgL",
        "outputId": "e3133018-f158-4270-a14e-c11292d8f529",
        "colab": {
          "base_uri": "https://localhost:8080/"
        }
      },
      "source": [
        "n=10\n",
        "i=0\n",
        "# print(int(n*(n+1)/2))\n",
        "for x in range(1,n+1):\n",
        "  i +=x\n",
        "  print(i)"
      ],
      "execution_count": 152,
      "outputs": [
        {
          "output_type": "stream",
          "name": "stdout",
          "text": [
            "1\n",
            "3\n",
            "6\n",
            "10\n",
            "15\n",
            "21\n",
            "28\n",
            "36\n",
            "45\n",
            "55\n"
          ]
        }
      ]
    },
    {
      "cell_type": "code",
      "metadata": {
        "id": "RLGSVv9S5Vhi"
      },
      "source": [
        ""
      ],
      "execution_count": null,
      "outputs": []
    }
  ]
}